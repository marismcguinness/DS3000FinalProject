{
  "nbformat": 4,
  "nbformat_minor": 0,
  "metadata": {
    "kernelspec": {
      "display_name": "Python 3",
      "language": "python",
      "name": "python3"
    },
    "language_info": {
      "codemirror_mode": {
        "name": "ipython",
        "version": 3
      },
      "file_extension": ".py",
      "mimetype": "text/x-python",
      "name": "python",
      "nbconvert_exporter": "python",
      "pygments_lexer": "ipython3",
      "version": "3.7.3"
    },
    "colab": {
      "name": "report.ipynb",
      "provenance": [],
      "collapsed_sections": [],
      "include_colab_link": true
    }
  },
  "cells": [
    {
      "cell_type": "markdown",
      "metadata": {
        "id": "view-in-github",
        "colab_type": "text"
      },
      "source": [
        "<a href=\"https://colab.research.google.com/github/marismcguinness/DS3000FinalProject/blob/master/report.ipynb\" target=\"_parent\"><img src=\"https://colab.research.google.com/assets/colab-badge.svg\" alt=\"Open In Colab\"/></a>"
      ]
    },
    {
      "cell_type": "markdown",
      "metadata": {
        "id": "I3OMJ9ZSkHTn",
        "colab_type": "text"
      },
      "source": [
        "<center> <h2> DS 3000 - Fall 2019</h2> </center>\n",
        "<center> <h3> DS Report </h3> </center>\n"
      ]
    },
    {
      "cell_type": "markdown",
      "metadata": {
        "id": "lRRBS4e6kHTq",
        "colab_type": "text"
      },
      "source": [
        "<center> <h1>Anemia among Bolivian women</h1> </center>\n",
        "<center><h4>Maris McGuinness</h4></center>\n",
        "<center><h4>Samantha Roman</h4></center>\n",
        "<center><h4>Togzhan Talgatkyzy</h4></center>\n"
      ]
    },
    {
      "cell_type": "markdown",
      "metadata": {
        "id": "WUmzz2BLkHTs",
        "colab_type": "text"
      },
      "source": [
        "<hr style=\"height:2px; border:none; color:black; background-color:black;\">"
      ]
    },
    {
      "cell_type": "markdown",
      "metadata": {
        "id": "otsDpj6JkHTt",
        "colab_type": "text"
      },
      "source": [
        "#### Executive Summary:\n",
        "\n",
        "Our project studies a dataset about Bolivian highland women. We predict anemia among women and if they will get treatment based on sociocultural factors such as age, education, location, and understanding of anemia. For this purpose we used supervised classification algorithms like k-Nearest Neighbor, Support Vector Machine, Gaussian Naive Bayes and Decision Tree, and cross-validation for training.\n",
        "The results show that women from rural regions less likely to pursue health care options than women from more urban areas.\n",
        "\n"
      ]
    },
    {
      "cell_type": "markdown",
      "metadata": {
        "id": "jZn-f5aIkHTt",
        "colab_type": "text"
      },
      "source": [
        "<hr style=\"height:2px; border:none; color:black; background-color:black;\">"
      ]
    },
    {
      "cell_type": "markdown",
      "metadata": {
        "id": "Tmh79Q3-kHTu",
        "colab_type": "text"
      },
      "source": [
        "## Outline\n",
        "1. <a href='#1'>INTRODUCTION</a>\n",
        "2. <a href='#2'>METHOD</a>\n",
        "3. <a href='#3'>RESULTS</a>\n",
        "4. <a href='#4'>DISCUSSION</a>"
      ]
    },
    {
      "cell_type": "markdown",
      "metadata": {
        "id": "LC3OcLtRkHTv",
        "colab_type": "text"
      },
      "source": [
        "<a id=\"1\"></a>\n",
        "<hr style=\"height:2px; border:none; color:black; background-color:black;\">"
      ]
    },
    {
      "cell_type": "markdown",
      "metadata": {
        "id": "8Wg3m_UlkHTv",
        "colab_type": "text"
      },
      "source": [
        "## 1. INTRODUCTION"
      ]
    },
    {
      "cell_type": "markdown",
      "metadata": {
        "id": "V_ua_n5YkHTw",
        "colab_type": "text"
      },
      "source": [
        "### 1.1 Problem Statement\n",
        "\n",
        "The project tackles the issue of anemia in women as a common illness that does not get enough attention. Anemia results from a lack of specific nutrients and vitamins and occurs when there is not enough consumption of animal products, nuts, fruits, vegetables, and beans. According to the report written by Camila Borda (2013), as a developing country Bolivia is facing negative changes in the eating behavior of people, they consume more \"empty\" calories and junk food. Therefore, there might be an increased prevalence of anemia here.\n",
        "We want to identify to what extent the sociocultural environment affects the health of women and to what extent they are willing to treat the illness. This might help to have a better understanding of the importance of government and global organizations' aids to fight anemia.\n",
        "\n",
        "### 1.2 Significance of the Problem\n",
        "\n",
        "Anemia causes daily headaches, dizziness, weakness, vision problems, and bones and joints pain (Khatri, 2019). Women are a high-risk group, also, it is likely that the child of a woman with anemia will inherit the disorder. Therefore, anemia treatment is important to prevent future health issues of the entire population.\n",
        "The report says that food issues of Bolivia are common for most of the Latin American countries. Therefore, it is important to study the health care issues in this developing countries, espacially when the disorder is also common for developed states like US. We believe that people's awareness will have significant role in preventing health problems.\n",
        "The dataset we have used was analyzed to explore the social impact on anemia level. The research has found how gender roles, education and language affect getting healthcare service. \n",
        "\n",
        "### 1.3 Questions\n",
        "Based on the presented problem, we aimed to answer some key questions on what factors determine anemia:\n",
        "* How do the gender roles in family affect women's health?\n",
        "* To what extent are Bolivian women aware of anemia?\n",
        "* To what extent do women treat anemia as a serious disorder?\n",
        "* How do reproductive status and age affect women's health?\n",
        "* Would Gaussian Naive-Bayes give falsely accurate predictions if the variables we used are inter-dependent?\n",
        "\n",
        "\n",
        "### 1.4 Hypothesis\n",
        "The following hypothesis was developed as well:\n",
        "* Women living in rural areas are less likely to seek anemia treatment pills compared to women from town areas.\n"
      ]
    },
    {
      "cell_type": "markdown",
      "metadata": {
        "id": "cL27mKHnkHT0",
        "colab_type": "text"
      },
      "source": [
        "## 2. METHOD"
      ]
    },
    {
      "cell_type": "markdown",
      "metadata": {
        "id": "wKpTfOtLkHT1",
        "colab_type": "text"
      },
      "source": [
        "### 2.1. Data Acquisition\n",
        "\n",
        "The project uses ready dataset prepared by Vitzthum Virginia from Indiana University website (https://scholarworks.iu.edu/dspace/handle/2022/21181). We used only the first CSV file, because the data from the second file does not seem consistent. The GitHub for the table is provided https://raw.githubusercontent.com/marismcguinness/DS3000FinalProject/master/phase1.csv. \n",
        "\n",
        "The table contains the IDs of research participants and their answers to multiple choice questions. The link to research had codebook where the answers to multiple choice questions are described."
      ]
    },
    {
      "cell_type": "markdown",
      "metadata": {
        "id": "X_oqYA-mkHT2",
        "colab_type": "text"
      },
      "source": [
        "### 2.2. Variables\n",
        "The first predictive model used \"Is anemic?\" as a target variable in order to determine if the subject has anemia or not. The following ten features were used:\n",
        "* Rural v. town\n",
        "* Who is in charge of family health?\n",
        "* Whose health is more important?\n",
        "* What is anemia?\n",
        "* How serious is anemia?\n",
        "* For whom is anemia most serious?\n",
        "* Age\n",
        "* Reproductive status\n",
        "* First language\n",
        "* Education\n",
        "\n",
        "The second predictive model used a target variable of \"Sought pills from Health Center?\" coupled with the following features:\n",
        "* Rural v. town\n",
        "* Hb prompting supplement recommendation\n",
        "* Who is in charge of family health?\n",
        "* Whose health is more important?\n",
        "* What is anemia?\n",
        "* How serious is anemia?\n",
        "* For whom is anemia most serious?\n",
        "* Age\n",
        "* Reproductive Status\n",
        "* First Language\n",
        "* Education\n",
        "\n",
        "Target Variable #2: \"Sought pills from Health Center?\""
      ]
    },
    {
      "cell_type": "markdown",
      "metadata": {
        "id": "FL6IOsZEkHT3",
        "colab_type": "text"
      },
      "source": [
        "### 2.3. Data Analysis\n",
        "\n",
        "Supervised clasification was used to make predictions. We have predicted if woman might have anemia based on her social background such as education, age, gender roles and language. Also we predict if women will approach to health care service if they are from rural or urban region.\n",
        "Machine learning algorithms like k-Nearest Neighbor, Support Vector Machine, Gaussian Naive Bayes and Decision Tree were used."
      ]
    },
    {
      "cell_type": "markdown",
      "metadata": {
        "id": "SRK3LWd9kHT3",
        "colab_type": "text"
      },
      "source": [
        "<a id=\"3\"></a>\n",
        "<hr style=\"height:2px; border:none; color:black; background-color:black;\">"
      ]
    },
    {
      "cell_type": "markdown",
      "metadata": {
        "id": "V-4LWOdWkHT4",
        "colab_type": "text"
      },
      "source": [
        "## 3. RESULTS"
      ]
    },
    {
      "cell_type": "markdown",
      "metadata": {
        "id": "SxAKebh-kHT5",
        "colab_type": "text"
      },
      "source": [
        "### 3.1. Data Wrangling\n",
        "\n",
        "Simple data cleaning was performed on the original dataset. For anemia predictions, all features that did not provide at least 165 values were removed. In particular, the \"Was iron supplement recommended?\" feature was removed as it would directly predict the subject's anemia status, and it did not qualify as a sociocultural factor of interest. Subject ID was taken to be the index."
      ]
    },
    {
      "cell_type": "code",
      "metadata": {
        "id": "DywfBgUv1D1w",
        "colab_type": "code",
        "colab": {}
      },
      "source": [
        "import pandas as pd\n",
        "url = 'https://raw.githubusercontent.com/marismcguinness/DS3000FinalProject/master/phase1.csv'\n",
        "\n",
        "# reads the anemia dataset\n",
        "df_all = pd.read_csv(url)"
      ],
      "execution_count": 0,
      "outputs": []
    },
    {
      "cell_type": "code",
      "metadata": {
        "id": "4SIHwydfoD_v",
        "colab_type": "code",
        "outputId": "c183f481-5cf2-4da6-a35e-3471d82a0f34",
        "colab": {
          "base_uri": "https://localhost:8080/",
          "height": 319
        }
      },
      "source": [
        "# cleans dataset for determining if subject is anemic\n",
        "df_anemic = df_all.dropna(thresh=165, axis=1)\n",
        "df_anemic = df_anemic.dropna(axis=0)\n",
        "df_anemic = df_anemic.drop(\"Was iron supplement recommended?\", axis=1)\n",
        "df_anemic.set_index(\"ID\", inplace=True)\n",
        "df_anemic.head()"
      ],
      "execution_count": 0,
      "outputs": [
        {
          "output_type": "execute_result",
          "data": {
            "text/html": [
              "<div>\n",
              "<style scoped>\n",
              "    .dataframe tbody tr th:only-of-type {\n",
              "        vertical-align: middle;\n",
              "    }\n",
              "\n",
              "    .dataframe tbody tr th {\n",
              "        vertical-align: top;\n",
              "    }\n",
              "\n",
              "    .dataframe thead th {\n",
              "        text-align: right;\n",
              "    }\n",
              "</style>\n",
              "<table border=\"1\" class=\"dataframe\">\n",
              "  <thead>\n",
              "    <tr style=\"text-align: right;\">\n",
              "      <th></th>\n",
              "      <th>Rural v. Town</th>\n",
              "      <th>Hb (1st Obs)</th>\n",
              "      <th>Who is in charge of family health?</th>\n",
              "      <th>Whose health is more important?</th>\n",
              "      <th>What is anemia? (answer 1)</th>\n",
              "      <th>How serious is anemia?</th>\n",
              "      <th>For whom is anemia most serious?</th>\n",
              "      <th>Age</th>\n",
              "      <th>Reproductive Status</th>\n",
              "      <th>First Language</th>\n",
              "      <th>Education</th>\n",
              "    </tr>\n",
              "    <tr>\n",
              "      <th>ID</th>\n",
              "      <th></th>\n",
              "      <th></th>\n",
              "      <th></th>\n",
              "      <th></th>\n",
              "      <th></th>\n",
              "      <th></th>\n",
              "      <th></th>\n",
              "      <th></th>\n",
              "      <th></th>\n",
              "      <th></th>\n",
              "      <th></th>\n",
              "    </tr>\n",
              "  </thead>\n",
              "  <tbody>\n",
              "    <tr>\n",
              "      <th>100443</th>\n",
              "      <td>0</td>\n",
              "      <td>12.5</td>\n",
              "      <td>2.0</td>\n",
              "      <td>3</td>\n",
              "      <td>2.0</td>\n",
              "      <td>1.0</td>\n",
              "      <td>4.0</td>\n",
              "      <td>24.0</td>\n",
              "      <td>2.0</td>\n",
              "      <td>1.0</td>\n",
              "      <td>5.0</td>\n",
              "    </tr>\n",
              "    <tr>\n",
              "      <th>101578</th>\n",
              "      <td>0</td>\n",
              "      <td>14.2</td>\n",
              "      <td>3.0</td>\n",
              "      <td>3</td>\n",
              "      <td>1.0</td>\n",
              "      <td>1.0</td>\n",
              "      <td>2.0</td>\n",
              "      <td>25.0</td>\n",
              "      <td>2.0</td>\n",
              "      <td>1.0</td>\n",
              "      <td>9.0</td>\n",
              "    </tr>\n",
              "    <tr>\n",
              "      <th>101935</th>\n",
              "      <td>1</td>\n",
              "      <td>17.6</td>\n",
              "      <td>2.0</td>\n",
              "      <td>3</td>\n",
              "      <td>1.0</td>\n",
              "      <td>2.0</td>\n",
              "      <td>2.0</td>\n",
              "      <td>29.0</td>\n",
              "      <td>2.0</td>\n",
              "      <td>1.0</td>\n",
              "      <td>0.0</td>\n",
              "    </tr>\n",
              "    <tr>\n",
              "      <th>102521</th>\n",
              "      <td>0</td>\n",
              "      <td>16.4</td>\n",
              "      <td>2.0</td>\n",
              "      <td>2</td>\n",
              "      <td>1.0</td>\n",
              "      <td>3.0</td>\n",
              "      <td>2.0</td>\n",
              "      <td>30.0</td>\n",
              "      <td>2.0</td>\n",
              "      <td>1.0</td>\n",
              "      <td>5.0</td>\n",
              "    </tr>\n",
              "    <tr>\n",
              "      <th>105161</th>\n",
              "      <td>0</td>\n",
              "      <td>14.7</td>\n",
              "      <td>3.0</td>\n",
              "      <td>3</td>\n",
              "      <td>2.0</td>\n",
              "      <td>1.0</td>\n",
              "      <td>4.0</td>\n",
              "      <td>30.0</td>\n",
              "      <td>4.0</td>\n",
              "      <td>1.0</td>\n",
              "      <td>7.0</td>\n",
              "    </tr>\n",
              "  </tbody>\n",
              "</table>\n",
              "</div>"
            ],
            "text/plain": [
              "        Rural v. Town  Hb (1st Obs)  ...  First Language  Education\n",
              "ID                                   ...                           \n",
              "100443              0          12.5  ...             1.0        5.0\n",
              "101578              0          14.2  ...             1.0        9.0\n",
              "101935              1          17.6  ...             1.0        0.0\n",
              "102521              0          16.4  ...             1.0        5.0\n",
              "105161              0          14.7  ...             1.0        7.0\n",
              "\n",
              "[5 rows x 11 columns]"
            ]
          },
          "metadata": {
            "tags": []
          },
          "execution_count": 21
        }
      ]
    },
    {
      "cell_type": "markdown",
      "metadata": {
        "id": "2hKT46p-qmZ9",
        "colab_type": "text"
      },
      "source": [
        "Separate data cleaning steps were taken to prepare the dataset for pill predictions. The row threshold for features was 93 in this case, and the \"Hb (1st Obs)\" feature was removed as it was a replicate of the \"Hb prompting supplement recommendation\" feature.\n",
        "\n"
      ]
    },
    {
      "cell_type": "code",
      "metadata": {
        "id": "a-xoyhXrq8C4",
        "colab_type": "code",
        "outputId": "3c59e329-a44a-4937-f2e2-bf86426e79a0",
        "colab": {
          "base_uri": "https://localhost:8080/",
          "height": 339
        }
      },
      "source": [
        "# clean dataset for determining if pills were sought\n",
        "df_pills = df_all.dropna(thresh=93, axis=1)\n",
        "df_pills = df_pills.drop(\"Was iron supplement recommended?\", axis=1)\n",
        "df_pills = df_pills.drop(\"Hb (1st Obs)\", axis=1)\n",
        "df_pills = df_pills.dropna(axis=0)\n",
        "df_pills.set_index(\"ID\", inplace=True)\n",
        "df_pills.head()"
      ],
      "execution_count": 0,
      "outputs": [
        {
          "output_type": "execute_result",
          "data": {
            "text/html": [
              "<div>\n",
              "<style scoped>\n",
              "    .dataframe tbody tr th:only-of-type {\n",
              "        vertical-align: middle;\n",
              "    }\n",
              "\n",
              "    .dataframe tbody tr th {\n",
              "        vertical-align: top;\n",
              "    }\n",
              "\n",
              "    .dataframe thead th {\n",
              "        text-align: right;\n",
              "    }\n",
              "</style>\n",
              "<table border=\"1\" class=\"dataframe\">\n",
              "  <thead>\n",
              "    <tr style=\"text-align: right;\">\n",
              "      <th></th>\n",
              "      <th>Rural v. Town</th>\n",
              "      <th>Hb prompting supplement recommendation</th>\n",
              "      <th>Sought pills from Health Center?</th>\n",
              "      <th>Who is in charge of family health?</th>\n",
              "      <th>Whose health is more important?</th>\n",
              "      <th>What is anemia? (answer 1)</th>\n",
              "      <th>How serious is anemia?</th>\n",
              "      <th>For whom is anemia most serious?</th>\n",
              "      <th>Age</th>\n",
              "      <th>Reproductive Status</th>\n",
              "      <th>First Language</th>\n",
              "      <th>Education</th>\n",
              "    </tr>\n",
              "    <tr>\n",
              "      <th>ID</th>\n",
              "      <th></th>\n",
              "      <th></th>\n",
              "      <th></th>\n",
              "      <th></th>\n",
              "      <th></th>\n",
              "      <th></th>\n",
              "      <th></th>\n",
              "      <th></th>\n",
              "      <th></th>\n",
              "      <th></th>\n",
              "      <th></th>\n",
              "      <th></th>\n",
              "    </tr>\n",
              "  </thead>\n",
              "  <tbody>\n",
              "    <tr>\n",
              "      <th>100443</th>\n",
              "      <td>0</td>\n",
              "      <td>12.5</td>\n",
              "      <td>0</td>\n",
              "      <td>2.0</td>\n",
              "      <td>3</td>\n",
              "      <td>2.0</td>\n",
              "      <td>1.0</td>\n",
              "      <td>4.0</td>\n",
              "      <td>24.0</td>\n",
              "      <td>2.0</td>\n",
              "      <td>1.0</td>\n",
              "      <td>5.0</td>\n",
              "    </tr>\n",
              "    <tr>\n",
              "      <th>101578</th>\n",
              "      <td>0</td>\n",
              "      <td>14.2</td>\n",
              "      <td>0</td>\n",
              "      <td>3.0</td>\n",
              "      <td>3</td>\n",
              "      <td>1.0</td>\n",
              "      <td>1.0</td>\n",
              "      <td>2.0</td>\n",
              "      <td>25.0</td>\n",
              "      <td>2.0</td>\n",
              "      <td>1.0</td>\n",
              "      <td>9.0</td>\n",
              "    </tr>\n",
              "    <tr>\n",
              "      <th>105161</th>\n",
              "      <td>0</td>\n",
              "      <td>14.7</td>\n",
              "      <td>1</td>\n",
              "      <td>3.0</td>\n",
              "      <td>3</td>\n",
              "      <td>2.0</td>\n",
              "      <td>1.0</td>\n",
              "      <td>4.0</td>\n",
              "      <td>30.0</td>\n",
              "      <td>4.0</td>\n",
              "      <td>1.0</td>\n",
              "      <td>7.0</td>\n",
              "    </tr>\n",
              "    <tr>\n",
              "      <th>105949</th>\n",
              "      <td>1</td>\n",
              "      <td>15.4</td>\n",
              "      <td>0</td>\n",
              "      <td>3.0</td>\n",
              "      <td>3</td>\n",
              "      <td>2.0</td>\n",
              "      <td>1.0</td>\n",
              "      <td>2.0</td>\n",
              "      <td>25.0</td>\n",
              "      <td>4.0</td>\n",
              "      <td>1.0</td>\n",
              "      <td>6.0</td>\n",
              "    </tr>\n",
              "    <tr>\n",
              "      <th>106600</th>\n",
              "      <td>1</td>\n",
              "      <td>13.4</td>\n",
              "      <td>1</td>\n",
              "      <td>3.0</td>\n",
              "      <td>3</td>\n",
              "      <td>1.0</td>\n",
              "      <td>2.0</td>\n",
              "      <td>2.0</td>\n",
              "      <td>27.0</td>\n",
              "      <td>4.0</td>\n",
              "      <td>0.0</td>\n",
              "      <td>13.0</td>\n",
              "    </tr>\n",
              "  </tbody>\n",
              "</table>\n",
              "</div>"
            ],
            "text/plain": [
              "        Rural v. Town  ...  Education\n",
              "ID                     ...           \n",
              "100443              0  ...        5.0\n",
              "101578              0  ...        9.0\n",
              "105161              0  ...        7.0\n",
              "105949              1  ...        6.0\n",
              "106600              1  ...       13.0\n",
              "\n",
              "[5 rows x 12 columns]"
            ]
          },
          "metadata": {
            "tags": []
          },
          "execution_count": 22
        }
      ]
    },
    {
      "cell_type": "markdown",
      "metadata": {
        "id": "8_85P0-7l8Cj",
        "colab_type": "text"
      },
      "source": [
        "\n",
        "\n",
        "\n",
        "In order to determine if a subject was anemic or not, feature extraction was performed on the \"Hb (1st Obs)\" column. Based on literature reports, a hemoglobin level of 15.5 g/dL or lower qualified an individual as anemic [cite]. The code below shows how the `apply` method was used to extract anemic status based on reported hemoglobin level. Following this, the \"Hb (1st Obs)\" column was renamed as \"Is anemic?\" and used as the target column."
      ]
    },
    {
      "cell_type": "code",
      "metadata": {
        "id": "YbnaBUvOnxIw",
        "colab_type": "code",
        "colab": {}
      },
      "source": [
        "# defines the minimum hb level to qualify as not anemic (15.5 is anemic)\n",
        "hb_min = 15.5\n",
        "\n",
        "# processes hb level to determine if it qualifies for anemia (1) or not (0)\n",
        "def is_anemic(hb_level):\n",
        "  if hb_level > hb_min:\n",
        "    return 0\n",
        "  else:\n",
        "    return 1\n",
        "\n",
        "# determines if each subject in the df is anemic\n",
        "df_anemic[\"Hb (1st Obs)\"] = df_anemic[\"Hb (1st Obs)\"].apply(is_anemic)\n",
        "df_anemic = df_anemic.rename(columns={\"Hb (1st Obs)\":\"Is anemic?\"})"
      ],
      "execution_count": 0,
      "outputs": []
    },
    {
      "cell_type": "markdown",
      "metadata": {
        "id": "IqF-x9s2p62W",
        "colab_type": "text"
      },
      "source": [
        "\n",
        "\n",
        "Data wrangling was used to extract the features and target values from the anemia prediction DataFrame. The same method were used for the pills prediction DataFrame, as shown in the code below."
      ]
    },
    {
      "cell_type": "code",
      "metadata": {
        "id": "vItZNeJ9sJpm",
        "colab_type": "code",
        "colab": {}
      },
      "source": [
        "# set features and target values for anemia prediction DataFrame\n",
        "features = df_anemic.drop(\"Is anemic?\", axis=1)\n",
        "target = df_anemic[\"Is anemic?\"]\n",
        "\n",
        "# set features and target values for pills prediction DataFrame\n",
        "features_pills = df_pills.drop(\"Sought pills from Health Center?\", axis=1)\n",
        "target_pills = df_pills[\"Sought pills from Health Center?\"]"
      ],
      "execution_count": 0,
      "outputs": []
    },
    {
      "cell_type": "markdown",
      "metadata": {
        "id": "_ZWbh71-mXp2",
        "colab_type": "text"
      },
      "source": [
        "\n",
        "\n",
        "Preprocessing was performed after splitting the data in section 3.3."
      ]
    },
    {
      "cell_type": "markdown",
      "metadata": {
        "id": "8548D31qmhYr",
        "colab_type": "text"
      },
      "source": [
        " \n",
        "\n",
        "Feature selection was performed in section 3.3 as well."
      ]
    },
    {
      "cell_type": "markdown",
      "metadata": {
        "id": "OdzWrwGwkHT6",
        "colab_type": "text"
      },
      "source": [
        "### 3.2. Data Exploration\n",
        "\n"
      ]
    },
    {
      "cell_type": "markdown",
      "metadata": {
        "id": "fmKyN1luPF8p",
        "colab_type": "text"
      },
      "source": [
        "The figures below explain the key variables in our data set: Geographic location *(Rural v. Town)*, Prevalence of Anemia *(Is anemic?)*, Education, Age, Severity of Anemia *(How serious is anemia?)*, and Who is Percieved as being most Affected by Anemia *(For whom is anemia the most serious?)*. It is important to note that all of the women represented in the data set were not pregnant at the time of data collection."
      ]
    },
    {
      "cell_type": "code",
      "metadata": {
        "id": "nMODkQACm96f",
        "colab_type": "code",
        "colab": {}
      },
      "source": [
        "import plotly.express as px\n",
        "import plotly.graph_objects as go\n",
        "\n",
        "# determines if a value refers to anemic or not\n",
        "def is_anemic_string(hb_level):\n",
        "  if hb_level == 0:\n",
        "    return \"Not Anemic\"\n",
        "  else:\n",
        "    return \"Anemic\"\n",
        "\n",
        "# determines if each subject in the df is anemic\n",
        "df_anemic_copy = df_anemic.copy()\n",
        "df_anemic_copy[\"Is anemic?\"] = df_anemic_copy[\"Is anemic?\"].apply(is_anemic_string)"
      ],
      "execution_count": 0,
      "outputs": []
    },
    {
      "cell_type": "code",
      "metadata": {
        "id": "P7kpE5S3Dj43",
        "colab_type": "code",
        "outputId": "1e77eb37-ba23-4cfc-f94b-0385fda96d41",
        "colab": {
          "base_uri": "https://localhost:8080/",
          "height": 542
        }
      },
      "source": [
        "# creates Figure 1 (shown below)\n",
        "location_values = df_anemic[\"Rural v. Town\"].value_counts()\n",
        "rural_count = location_values.get(0)\n",
        "town_count = location_values.get(1)\n",
        "text = [\"Rural\", \"Town\"]\n",
        "colors = \t['rgb(205,92,92)','rgb((220,220,220)']\n",
        "values = [rural_count, town_count]\n",
        "fig = go.Figure(data=[go.Pie(text=text, values=values, pull=[0, 0.03], marker_colors=colors, showlegend=False)])\n",
        "fig.update_layout(title={'text': 'Geographic Location of Bolivian Highland Women', 'y':0.9, 'x':0.5, 'xanchor': 'center', 'yanchor': 'top'})\n",
        "fig.show()"
      ],
      "execution_count": 0,
      "outputs": [
        {
          "output_type": "display_data",
          "data": {
            "text/html": [
              "<html>\n",
              "<head><meta charset=\"utf-8\" /></head>\n",
              "<body>\n",
              "    <div>\n",
              "            <script src=\"https://cdnjs.cloudflare.com/ajax/libs/mathjax/2.7.5/MathJax.js?config=TeX-AMS-MML_SVG\"></script><script type=\"text/javascript\">if (window.MathJax) {MathJax.Hub.Config({SVG: {font: \"STIX-Web\"}});}</script>\n",
              "                <script type=\"text/javascript\">window.PlotlyConfig = {MathJaxConfig: 'local'};</script>\n",
              "        <script src=\"https://cdn.plot.ly/plotly-latest.min.js\"></script>    \n",
              "            <div id=\"16f8a1fa-0c3a-44bf-b094-6887c2649e04\" class=\"plotly-graph-div\" style=\"height:525px; width:100%;\"></div>\n",
              "            <script type=\"text/javascript\">\n",
              "                \n",
              "                    window.PLOTLYENV=window.PLOTLYENV || {};\n",
              "                    \n",
              "                if (document.getElementById(\"16f8a1fa-0c3a-44bf-b094-6887c2649e04\")) {\n",
              "                    Plotly.newPlot(\n",
              "                        '16f8a1fa-0c3a-44bf-b094-6887c2649e04',\n",
              "                        [{\"marker\": {\"colors\": [\"rgb(205,92,92)\", \"rgb((220,220,220)\"]}, \"pull\": [0, 0.03], \"showlegend\": false, \"text\": [\"Rural\", \"Town\"], \"type\": \"pie\", \"values\": [83, 53]}],\n",
              "                        {\"template\": {\"data\": {\"bar\": [{\"error_x\": {\"color\": \"#2a3f5f\"}, \"error_y\": {\"color\": \"#2a3f5f\"}, \"marker\": {\"line\": {\"color\": \"#E5ECF6\", \"width\": 0.5}}, \"type\": \"bar\"}], \"barpolar\": [{\"marker\": {\"line\": {\"color\": \"#E5ECF6\", \"width\": 0.5}}, \"type\": \"barpolar\"}], \"carpet\": [{\"aaxis\": {\"endlinecolor\": \"#2a3f5f\", \"gridcolor\": \"white\", \"linecolor\": \"white\", \"minorgridcolor\": \"white\", \"startlinecolor\": \"#2a3f5f\"}, \"baxis\": {\"endlinecolor\": \"#2a3f5f\", \"gridcolor\": \"white\", \"linecolor\": \"white\", \"minorgridcolor\": \"white\", \"startlinecolor\": \"#2a3f5f\"}, \"type\": \"carpet\"}], \"choropleth\": [{\"colorbar\": {\"outlinewidth\": 0, \"ticks\": \"\"}, \"type\": \"choropleth\"}], \"contour\": [{\"colorbar\": {\"outlinewidth\": 0, \"ticks\": \"\"}, \"colorscale\": [[0.0, \"#0d0887\"], [0.1111111111111111, \"#46039f\"], [0.2222222222222222, \"#7201a8\"], [0.3333333333333333, \"#9c179e\"], [0.4444444444444444, \"#bd3786\"], [0.5555555555555556, \"#d8576b\"], [0.6666666666666666, \"#ed7953\"], [0.7777777777777778, \"#fb9f3a\"], [0.8888888888888888, \"#fdca26\"], [1.0, \"#f0f921\"]], \"type\": \"contour\"}], \"contourcarpet\": [{\"colorbar\": {\"outlinewidth\": 0, \"ticks\": \"\"}, \"type\": \"contourcarpet\"}], \"heatmap\": [{\"colorbar\": {\"outlinewidth\": 0, \"ticks\": \"\"}, \"colorscale\": [[0.0, \"#0d0887\"], [0.1111111111111111, \"#46039f\"], [0.2222222222222222, \"#7201a8\"], [0.3333333333333333, \"#9c179e\"], [0.4444444444444444, \"#bd3786\"], [0.5555555555555556, \"#d8576b\"], [0.6666666666666666, \"#ed7953\"], [0.7777777777777778, \"#fb9f3a\"], [0.8888888888888888, \"#fdca26\"], [1.0, \"#f0f921\"]], \"type\": \"heatmap\"}], \"heatmapgl\": [{\"colorbar\": {\"outlinewidth\": 0, \"ticks\": \"\"}, \"colorscale\": [[0.0, \"#0d0887\"], [0.1111111111111111, \"#46039f\"], [0.2222222222222222, \"#7201a8\"], [0.3333333333333333, \"#9c179e\"], [0.4444444444444444, \"#bd3786\"], [0.5555555555555556, \"#d8576b\"], [0.6666666666666666, \"#ed7953\"], [0.7777777777777778, \"#fb9f3a\"], [0.8888888888888888, \"#fdca26\"], [1.0, \"#f0f921\"]], \"type\": \"heatmapgl\"}], \"histogram\": [{\"marker\": {\"colorbar\": {\"outlinewidth\": 0, \"ticks\": \"\"}}, \"type\": \"histogram\"}], \"histogram2d\": [{\"colorbar\": {\"outlinewidth\": 0, \"ticks\": \"\"}, \"colorscale\": [[0.0, \"#0d0887\"], [0.1111111111111111, \"#46039f\"], [0.2222222222222222, \"#7201a8\"], [0.3333333333333333, \"#9c179e\"], [0.4444444444444444, \"#bd3786\"], [0.5555555555555556, \"#d8576b\"], [0.6666666666666666, \"#ed7953\"], [0.7777777777777778, \"#fb9f3a\"], [0.8888888888888888, \"#fdca26\"], [1.0, \"#f0f921\"]], \"type\": \"histogram2d\"}], \"histogram2dcontour\": [{\"colorbar\": {\"outlinewidth\": 0, \"ticks\": \"\"}, \"colorscale\": [[0.0, \"#0d0887\"], [0.1111111111111111, \"#46039f\"], [0.2222222222222222, \"#7201a8\"], [0.3333333333333333, \"#9c179e\"], [0.4444444444444444, \"#bd3786\"], [0.5555555555555556, \"#d8576b\"], [0.6666666666666666, \"#ed7953\"], [0.7777777777777778, \"#fb9f3a\"], [0.8888888888888888, \"#fdca26\"], [1.0, \"#f0f921\"]], \"type\": \"histogram2dcontour\"}], \"mesh3d\": [{\"colorbar\": {\"outlinewidth\": 0, \"ticks\": \"\"}, \"type\": \"mesh3d\"}], \"parcoords\": [{\"line\": {\"colorbar\": {\"outlinewidth\": 0, \"ticks\": \"\"}}, \"type\": \"parcoords\"}], \"scatter\": [{\"marker\": {\"colorbar\": {\"outlinewidth\": 0, \"ticks\": \"\"}}, \"type\": \"scatter\"}], \"scatter3d\": [{\"line\": {\"colorbar\": {\"outlinewidth\": 0, \"ticks\": \"\"}}, \"marker\": {\"colorbar\": {\"outlinewidth\": 0, \"ticks\": \"\"}}, \"type\": \"scatter3d\"}], \"scattercarpet\": [{\"marker\": {\"colorbar\": {\"outlinewidth\": 0, \"ticks\": \"\"}}, \"type\": \"scattercarpet\"}], \"scattergeo\": [{\"marker\": {\"colorbar\": {\"outlinewidth\": 0, \"ticks\": \"\"}}, \"type\": \"scattergeo\"}], \"scattergl\": [{\"marker\": {\"colorbar\": {\"outlinewidth\": 0, \"ticks\": \"\"}}, \"type\": \"scattergl\"}], \"scattermapbox\": [{\"marker\": {\"colorbar\": {\"outlinewidth\": 0, \"ticks\": \"\"}}, \"type\": \"scattermapbox\"}], \"scatterpolar\": [{\"marker\": {\"colorbar\": {\"outlinewidth\": 0, \"ticks\": \"\"}}, \"type\": \"scatterpolar\"}], \"scatterpolargl\": [{\"marker\": {\"colorbar\": {\"outlinewidth\": 0, \"ticks\": \"\"}}, \"type\": \"scatterpolargl\"}], \"scatterternary\": [{\"marker\": {\"colorbar\": {\"outlinewidth\": 0, \"ticks\": \"\"}}, \"type\": \"scatterternary\"}], \"surface\": [{\"colorbar\": {\"outlinewidth\": 0, \"ticks\": \"\"}, \"colorscale\": [[0.0, \"#0d0887\"], [0.1111111111111111, \"#46039f\"], [0.2222222222222222, \"#7201a8\"], [0.3333333333333333, \"#9c179e\"], [0.4444444444444444, \"#bd3786\"], [0.5555555555555556, \"#d8576b\"], [0.6666666666666666, \"#ed7953\"], [0.7777777777777778, \"#fb9f3a\"], [0.8888888888888888, \"#fdca26\"], [1.0, \"#f0f921\"]], \"type\": \"surface\"}], \"table\": [{\"cells\": {\"fill\": {\"color\": \"#EBF0F8\"}, \"line\": {\"color\": \"white\"}}, \"header\": {\"fill\": {\"color\": \"#C8D4E3\"}, \"line\": {\"color\": \"white\"}}, \"type\": \"table\"}]}, \"layout\": {\"annotationdefaults\": {\"arrowcolor\": \"#2a3f5f\", \"arrowhead\": 0, \"arrowwidth\": 1}, \"colorscale\": {\"diverging\": [[0, \"#8e0152\"], [0.1, \"#c51b7d\"], [0.2, \"#de77ae\"], [0.3, \"#f1b6da\"], [0.4, \"#fde0ef\"], [0.5, \"#f7f7f7\"], [0.6, \"#e6f5d0\"], [0.7, \"#b8e186\"], [0.8, \"#7fbc41\"], [0.9, \"#4d9221\"], [1, \"#276419\"]], \"sequential\": [[0.0, \"#0d0887\"], [0.1111111111111111, \"#46039f\"], [0.2222222222222222, \"#7201a8\"], [0.3333333333333333, \"#9c179e\"], [0.4444444444444444, \"#bd3786\"], [0.5555555555555556, \"#d8576b\"], [0.6666666666666666, \"#ed7953\"], [0.7777777777777778, \"#fb9f3a\"], [0.8888888888888888, \"#fdca26\"], [1.0, \"#f0f921\"]], \"sequentialminus\": [[0.0, \"#0d0887\"], [0.1111111111111111, \"#46039f\"], [0.2222222222222222, \"#7201a8\"], [0.3333333333333333, \"#9c179e\"], [0.4444444444444444, \"#bd3786\"], [0.5555555555555556, \"#d8576b\"], [0.6666666666666666, \"#ed7953\"], [0.7777777777777778, \"#fb9f3a\"], [0.8888888888888888, \"#fdca26\"], [1.0, \"#f0f921\"]]}, \"colorway\": [\"#636efa\", \"#EF553B\", \"#00cc96\", \"#ab63fa\", \"#FFA15A\", \"#19d3f3\", \"#FF6692\", \"#B6E880\", \"#FF97FF\", \"#FECB52\"], \"font\": {\"color\": \"#2a3f5f\"}, \"geo\": {\"bgcolor\": \"white\", \"lakecolor\": \"white\", \"landcolor\": \"#E5ECF6\", \"showlakes\": true, \"showland\": true, \"subunitcolor\": \"white\"}, \"hoverlabel\": {\"align\": \"left\"}, \"hovermode\": \"closest\", \"mapbox\": {\"style\": \"light\"}, \"paper_bgcolor\": \"white\", \"plot_bgcolor\": \"#E5ECF6\", \"polar\": {\"angularaxis\": {\"gridcolor\": \"white\", \"linecolor\": \"white\", \"ticks\": \"\"}, \"bgcolor\": \"#E5ECF6\", \"radialaxis\": {\"gridcolor\": \"white\", \"linecolor\": \"white\", \"ticks\": \"\"}}, \"scene\": {\"xaxis\": {\"backgroundcolor\": \"#E5ECF6\", \"gridcolor\": \"white\", \"gridwidth\": 2, \"linecolor\": \"white\", \"showbackground\": true, \"ticks\": \"\", \"zerolinecolor\": \"white\"}, \"yaxis\": {\"backgroundcolor\": \"#E5ECF6\", \"gridcolor\": \"white\", \"gridwidth\": 2, \"linecolor\": \"white\", \"showbackground\": true, \"ticks\": \"\", \"zerolinecolor\": \"white\"}, \"zaxis\": {\"backgroundcolor\": \"#E5ECF6\", \"gridcolor\": \"white\", \"gridwidth\": 2, \"linecolor\": \"white\", \"showbackground\": true, \"ticks\": \"\", \"zerolinecolor\": \"white\"}}, \"shapedefaults\": {\"line\": {\"color\": \"#2a3f5f\"}}, \"ternary\": {\"aaxis\": {\"gridcolor\": \"white\", \"linecolor\": \"white\", \"ticks\": \"\"}, \"baxis\": {\"gridcolor\": \"white\", \"linecolor\": \"white\", \"ticks\": \"\"}, \"bgcolor\": \"#E5ECF6\", \"caxis\": {\"gridcolor\": \"white\", \"linecolor\": \"white\", \"ticks\": \"\"}}, \"title\": {\"x\": 0.05}, \"xaxis\": {\"automargin\": true, \"gridcolor\": \"white\", \"linecolor\": \"white\", \"ticks\": \"\", \"zerolinecolor\": \"white\", \"zerolinewidth\": 2}, \"yaxis\": {\"automargin\": true, \"gridcolor\": \"white\", \"linecolor\": \"white\", \"ticks\": \"\", \"zerolinecolor\": \"white\", \"zerolinewidth\": 2}}}, \"title\": {\"text\": \"Geographic Location of Bolivian Highland Women\", \"x\": 0.5, \"xanchor\": \"center\", \"y\": 0.9, \"yanchor\": \"top\"}},\n",
              "                        {\"responsive\": true}\n",
              "                    ).then(function(){\n",
              "                            \n",
              "var gd = document.getElementById('16f8a1fa-0c3a-44bf-b094-6887c2649e04');\n",
              "var x = new MutationObserver(function (mutations, observer) {{\n",
              "        var display = window.getComputedStyle(gd).display;\n",
              "        if (!display || display === 'none') {{\n",
              "            console.log([gd, 'removed!']);\n",
              "            Plotly.purge(gd);\n",
              "            observer.disconnect();\n",
              "        }}\n",
              "}});\n",
              "\n",
              "// Listen for the removal of the full notebook cells\n",
              "var notebookContainer = gd.closest('#notebook-container');\n",
              "if (notebookContainer) {{\n",
              "    x.observe(notebookContainer, {childList: true});\n",
              "}}\n",
              "\n",
              "// Listen for the clearing of the current output cell\n",
              "var outputEl = gd.closest('.output');\n",
              "if (outputEl) {{\n",
              "    x.observe(outputEl, {childList: true});\n",
              "}}\n",
              "\n",
              "                        })\n",
              "                };\n",
              "                \n",
              "            </script>\n",
              "        </div>\n",
              "</body>\n",
              "</html>"
            ]
          },
          "metadata": {
            "tags": []
          }
        }
      ]
    },
    {
      "cell_type": "markdown",
      "metadata": {
        "id": "XEAbImuFDvIv",
        "colab_type": "text"
      },
      "source": [
        "FIGURE 1:\n",
        "This figure shows the geographical location of the Bolivian women represented in this dataset. The majority of the women studied (61%) are from rural areas of Bolivia. The other 39% of women are from towns or urban areas in Bolivia.\n",
        "Image link: https://github.com/marismcguinness/DS3000FinalProject/blob/master/geographicLocationofWomen.png\n",
        "\n",
        "\n"
      ]
    },
    {
      "cell_type": "code",
      "metadata": {
        "id": "ogxqWHsEm-SO",
        "colab_type": "code",
        "outputId": "12326f07-7ee3-4e0e-c0fa-bd75ff3dab9e",
        "colab": {
          "base_uri": "https://localhost:8080/",
          "height": 542
        }
      },
      "source": [
        "# creates Figure 2 (shown below)\n",
        "anemia_values = df_anemic[\"Is anemic?\"].value_counts()\n",
        "anemic_count = anemia_vaues.get(1)\n",
        "not_anemic_count = anemia_values.get(0)\n",
        "text = [\"Anemic\", \"Not Anemic\"]\n",
        "colors = \t['rgb(205,92,92)','rgb((220,220,220)']\n",
        "values = [anemic_count, not_anemic_count]\n",
        "fig = go.Figure(data=[go.Pie(text=text, values=values, pull=[0, 0.03], marker_colors=colors, showlegend=False)])\n",
        "fig.update_layout(title={'text': 'Proportion of Anemia in Bolivian Highland Women', 'y':0.9, 'x':0.5, 'xanchor': 'center', 'yanchor': 'top'})\n",
        "fig.show()"
      ],
      "execution_count": 0,
      "outputs": [
        {
          "output_type": "display_data",
          "data": {
            "text/html": [
              "<html>\n",
              "<head><meta charset=\"utf-8\" /></head>\n",
              "<body>\n",
              "    <div>\n",
              "            <script src=\"https://cdnjs.cloudflare.com/ajax/libs/mathjax/2.7.5/MathJax.js?config=TeX-AMS-MML_SVG\"></script><script type=\"text/javascript\">if (window.MathJax) {MathJax.Hub.Config({SVG: {font: \"STIX-Web\"}});}</script>\n",
              "                <script type=\"text/javascript\">window.PlotlyConfig = {MathJaxConfig: 'local'};</script>\n",
              "        <script src=\"https://cdn.plot.ly/plotly-latest.min.js\"></script>    \n",
              "            <div id=\"63c48328-1b19-4801-8bc3-35d8fac3f196\" class=\"plotly-graph-div\" style=\"height:525px; width:100%;\"></div>\n",
              "            <script type=\"text/javascript\">\n",
              "                \n",
              "                    window.PLOTLYENV=window.PLOTLYENV || {};\n",
              "                    \n",
              "                if (document.getElementById(\"63c48328-1b19-4801-8bc3-35d8fac3f196\")) {\n",
              "                    Plotly.newPlot(\n",
              "                        '63c48328-1b19-4801-8bc3-35d8fac3f196',\n",
              "                        [{\"marker\": {\"colors\": [\"rgb(205,92,92)\", \"rgb((220,220,220)\"]}, \"pull\": [0, 0.03], \"showlegend\": false, \"text\": [\"Anemic\", \"Not Anemic\"], \"type\": \"pie\", \"values\": [67, 69]}],\n",
              "                        {\"template\": {\"data\": {\"bar\": [{\"error_x\": {\"color\": \"#2a3f5f\"}, \"error_y\": {\"color\": \"#2a3f5f\"}, \"marker\": {\"line\": {\"color\": \"#E5ECF6\", \"width\": 0.5}}, \"type\": \"bar\"}], \"barpolar\": [{\"marker\": {\"line\": {\"color\": \"#E5ECF6\", \"width\": 0.5}}, \"type\": \"barpolar\"}], \"carpet\": [{\"aaxis\": {\"endlinecolor\": \"#2a3f5f\", \"gridcolor\": \"white\", \"linecolor\": \"white\", \"minorgridcolor\": \"white\", \"startlinecolor\": \"#2a3f5f\"}, \"baxis\": {\"endlinecolor\": \"#2a3f5f\", \"gridcolor\": \"white\", \"linecolor\": \"white\", \"minorgridcolor\": \"white\", \"startlinecolor\": \"#2a3f5f\"}, \"type\": \"carpet\"}], \"choropleth\": [{\"colorbar\": {\"outlinewidth\": 0, \"ticks\": \"\"}, \"type\": \"choropleth\"}], \"contour\": [{\"colorbar\": {\"outlinewidth\": 0, \"ticks\": \"\"}, \"colorscale\": [[0.0, \"#0d0887\"], [0.1111111111111111, \"#46039f\"], [0.2222222222222222, \"#7201a8\"], [0.3333333333333333, \"#9c179e\"], [0.4444444444444444, \"#bd3786\"], [0.5555555555555556, \"#d8576b\"], [0.6666666666666666, \"#ed7953\"], [0.7777777777777778, \"#fb9f3a\"], [0.8888888888888888, \"#fdca26\"], [1.0, \"#f0f921\"]], \"type\": \"contour\"}], \"contourcarpet\": [{\"colorbar\": {\"outlinewidth\": 0, \"ticks\": \"\"}, \"type\": \"contourcarpet\"}], \"heatmap\": [{\"colorbar\": {\"outlinewidth\": 0, \"ticks\": \"\"}, \"colorscale\": [[0.0, \"#0d0887\"], [0.1111111111111111, \"#46039f\"], [0.2222222222222222, \"#7201a8\"], [0.3333333333333333, \"#9c179e\"], [0.4444444444444444, \"#bd3786\"], [0.5555555555555556, \"#d8576b\"], [0.6666666666666666, \"#ed7953\"], [0.7777777777777778, \"#fb9f3a\"], [0.8888888888888888, \"#fdca26\"], [1.0, \"#f0f921\"]], \"type\": \"heatmap\"}], \"heatmapgl\": [{\"colorbar\": {\"outlinewidth\": 0, \"ticks\": \"\"}, \"colorscale\": [[0.0, \"#0d0887\"], [0.1111111111111111, \"#46039f\"], [0.2222222222222222, \"#7201a8\"], [0.3333333333333333, \"#9c179e\"], [0.4444444444444444, \"#bd3786\"], [0.5555555555555556, \"#d8576b\"], [0.6666666666666666, \"#ed7953\"], [0.7777777777777778, \"#fb9f3a\"], [0.8888888888888888, \"#fdca26\"], [1.0, \"#f0f921\"]], \"type\": \"heatmapgl\"}], \"histogram\": [{\"marker\": {\"colorbar\": {\"outlinewidth\": 0, \"ticks\": \"\"}}, \"type\": \"histogram\"}], \"histogram2d\": [{\"colorbar\": {\"outlinewidth\": 0, \"ticks\": \"\"}, \"colorscale\": [[0.0, \"#0d0887\"], [0.1111111111111111, \"#46039f\"], [0.2222222222222222, \"#7201a8\"], [0.3333333333333333, \"#9c179e\"], [0.4444444444444444, \"#bd3786\"], [0.5555555555555556, \"#d8576b\"], [0.6666666666666666, \"#ed7953\"], [0.7777777777777778, \"#fb9f3a\"], [0.8888888888888888, \"#fdca26\"], [1.0, \"#f0f921\"]], \"type\": \"histogram2d\"}], \"histogram2dcontour\": [{\"colorbar\": {\"outlinewidth\": 0, \"ticks\": \"\"}, \"colorscale\": [[0.0, \"#0d0887\"], [0.1111111111111111, \"#46039f\"], [0.2222222222222222, \"#7201a8\"], [0.3333333333333333, \"#9c179e\"], [0.4444444444444444, \"#bd3786\"], [0.5555555555555556, \"#d8576b\"], [0.6666666666666666, \"#ed7953\"], [0.7777777777777778, \"#fb9f3a\"], [0.8888888888888888, \"#fdca26\"], [1.0, \"#f0f921\"]], \"type\": \"histogram2dcontour\"}], \"mesh3d\": [{\"colorbar\": {\"outlinewidth\": 0, \"ticks\": \"\"}, \"type\": \"mesh3d\"}], \"parcoords\": [{\"line\": {\"colorbar\": {\"outlinewidth\": 0, \"ticks\": \"\"}}, \"type\": \"parcoords\"}], \"scatter\": [{\"marker\": {\"colorbar\": {\"outlinewidth\": 0, \"ticks\": \"\"}}, \"type\": \"scatter\"}], \"scatter3d\": [{\"line\": {\"colorbar\": {\"outlinewidth\": 0, \"ticks\": \"\"}}, \"marker\": {\"colorbar\": {\"outlinewidth\": 0, \"ticks\": \"\"}}, \"type\": \"scatter3d\"}], \"scattercarpet\": [{\"marker\": {\"colorbar\": {\"outlinewidth\": 0, \"ticks\": \"\"}}, \"type\": \"scattercarpet\"}], \"scattergeo\": [{\"marker\": {\"colorbar\": {\"outlinewidth\": 0, \"ticks\": \"\"}}, \"type\": \"scattergeo\"}], \"scattergl\": [{\"marker\": {\"colorbar\": {\"outlinewidth\": 0, \"ticks\": \"\"}}, \"type\": \"scattergl\"}], \"scattermapbox\": [{\"marker\": {\"colorbar\": {\"outlinewidth\": 0, \"ticks\": \"\"}}, \"type\": \"scattermapbox\"}], \"scatterpolar\": [{\"marker\": {\"colorbar\": {\"outlinewidth\": 0, \"ticks\": \"\"}}, \"type\": \"scatterpolar\"}], \"scatterpolargl\": [{\"marker\": {\"colorbar\": {\"outlinewidth\": 0, \"ticks\": \"\"}}, \"type\": \"scatterpolargl\"}], \"scatterternary\": [{\"marker\": {\"colorbar\": {\"outlinewidth\": 0, \"ticks\": \"\"}}, \"type\": \"scatterternary\"}], \"surface\": [{\"colorbar\": {\"outlinewidth\": 0, \"ticks\": \"\"}, \"colorscale\": [[0.0, \"#0d0887\"], [0.1111111111111111, \"#46039f\"], [0.2222222222222222, \"#7201a8\"], [0.3333333333333333, \"#9c179e\"], [0.4444444444444444, \"#bd3786\"], [0.5555555555555556, \"#d8576b\"], [0.6666666666666666, \"#ed7953\"], [0.7777777777777778, \"#fb9f3a\"], [0.8888888888888888, \"#fdca26\"], [1.0, \"#f0f921\"]], \"type\": \"surface\"}], \"table\": [{\"cells\": {\"fill\": {\"color\": \"#EBF0F8\"}, \"line\": {\"color\": \"white\"}}, \"header\": {\"fill\": {\"color\": \"#C8D4E3\"}, \"line\": {\"color\": \"white\"}}, \"type\": \"table\"}]}, \"layout\": {\"annotationdefaults\": {\"arrowcolor\": \"#2a3f5f\", \"arrowhead\": 0, \"arrowwidth\": 1}, \"colorscale\": {\"diverging\": [[0, \"#8e0152\"], [0.1, \"#c51b7d\"], [0.2, \"#de77ae\"], [0.3, \"#f1b6da\"], [0.4, \"#fde0ef\"], [0.5, \"#f7f7f7\"], [0.6, \"#e6f5d0\"], [0.7, \"#b8e186\"], [0.8, \"#7fbc41\"], [0.9, \"#4d9221\"], [1, \"#276419\"]], \"sequential\": [[0.0, \"#0d0887\"], [0.1111111111111111, \"#46039f\"], [0.2222222222222222, \"#7201a8\"], [0.3333333333333333, \"#9c179e\"], [0.4444444444444444, \"#bd3786\"], [0.5555555555555556, \"#d8576b\"], [0.6666666666666666, \"#ed7953\"], [0.7777777777777778, \"#fb9f3a\"], [0.8888888888888888, \"#fdca26\"], [1.0, \"#f0f921\"]], \"sequentialminus\": [[0.0, \"#0d0887\"], [0.1111111111111111, \"#46039f\"], [0.2222222222222222, \"#7201a8\"], [0.3333333333333333, \"#9c179e\"], [0.4444444444444444, \"#bd3786\"], [0.5555555555555556, \"#d8576b\"], [0.6666666666666666, \"#ed7953\"], [0.7777777777777778, \"#fb9f3a\"], [0.8888888888888888, \"#fdca26\"], [1.0, \"#f0f921\"]]}, \"colorway\": [\"#636efa\", \"#EF553B\", \"#00cc96\", \"#ab63fa\", \"#FFA15A\", \"#19d3f3\", \"#FF6692\", \"#B6E880\", \"#FF97FF\", \"#FECB52\"], \"font\": {\"color\": \"#2a3f5f\"}, \"geo\": {\"bgcolor\": \"white\", \"lakecolor\": \"white\", \"landcolor\": \"#E5ECF6\", \"showlakes\": true, \"showland\": true, \"subunitcolor\": \"white\"}, \"hoverlabel\": {\"align\": \"left\"}, \"hovermode\": \"closest\", \"mapbox\": {\"style\": \"light\"}, \"paper_bgcolor\": \"white\", \"plot_bgcolor\": \"#E5ECF6\", \"polar\": {\"angularaxis\": {\"gridcolor\": \"white\", \"linecolor\": \"white\", \"ticks\": \"\"}, \"bgcolor\": \"#E5ECF6\", \"radialaxis\": {\"gridcolor\": \"white\", \"linecolor\": \"white\", \"ticks\": \"\"}}, \"scene\": {\"xaxis\": {\"backgroundcolor\": \"#E5ECF6\", \"gridcolor\": \"white\", \"gridwidth\": 2, \"linecolor\": \"white\", \"showbackground\": true, \"ticks\": \"\", \"zerolinecolor\": \"white\"}, \"yaxis\": {\"backgroundcolor\": \"#E5ECF6\", \"gridcolor\": \"white\", \"gridwidth\": 2, \"linecolor\": \"white\", \"showbackground\": true, \"ticks\": \"\", \"zerolinecolor\": \"white\"}, \"zaxis\": {\"backgroundcolor\": \"#E5ECF6\", \"gridcolor\": \"white\", \"gridwidth\": 2, \"linecolor\": \"white\", \"showbackground\": true, \"ticks\": \"\", \"zerolinecolor\": \"white\"}}, \"shapedefaults\": {\"line\": {\"color\": \"#2a3f5f\"}}, \"ternary\": {\"aaxis\": {\"gridcolor\": \"white\", \"linecolor\": \"white\", \"ticks\": \"\"}, \"baxis\": {\"gridcolor\": \"white\", \"linecolor\": \"white\", \"ticks\": \"\"}, \"bgcolor\": \"#E5ECF6\", \"caxis\": {\"gridcolor\": \"white\", \"linecolor\": \"white\", \"ticks\": \"\"}}, \"title\": {\"x\": 0.05}, \"xaxis\": {\"automargin\": true, \"gridcolor\": \"white\", \"linecolor\": \"white\", \"ticks\": \"\", \"zerolinecolor\": \"white\", \"zerolinewidth\": 2}, \"yaxis\": {\"automargin\": true, \"gridcolor\": \"white\", \"linecolor\": \"white\", \"ticks\": \"\", \"zerolinecolor\": \"white\", \"zerolinewidth\": 2}}}, \"title\": {\"text\": \"Proportion of Anemia in Bolivian Highland Women\", \"x\": 0.5, \"xanchor\": \"center\", \"y\": 0.9, \"yanchor\": \"top\"}},\n",
              "                        {\"responsive\": true}\n",
              "                    ).then(function(){\n",
              "                            \n",
              "var gd = document.getElementById('63c48328-1b19-4801-8bc3-35d8fac3f196');\n",
              "var x = new MutationObserver(function (mutations, observer) {{\n",
              "        var display = window.getComputedStyle(gd).display;\n",
              "        if (!display || display === 'none') {{\n",
              "            console.log([gd, 'removed!']);\n",
              "            Plotly.purge(gd);\n",
              "            observer.disconnect();\n",
              "        }}\n",
              "}});\n",
              "\n",
              "// Listen for the removal of the full notebook cells\n",
              "var notebookContainer = gd.closest('#notebook-container');\n",
              "if (notebookContainer) {{\n",
              "    x.observe(notebookContainer, {childList: true});\n",
              "}}\n",
              "\n",
              "// Listen for the clearing of the current output cell\n",
              "var outputEl = gd.closest('.output');\n",
              "if (outputEl) {{\n",
              "    x.observe(outputEl, {childList: true});\n",
              "}}\n",
              "\n",
              "                        })\n",
              "                };\n",
              "                \n",
              "            </script>\n",
              "        </div>\n",
              "</body>\n",
              "</html>"
            ]
          },
          "metadata": {
            "tags": []
          }
        }
      ]
    },
    {
      "cell_type": "markdown",
      "metadata": {
        "id": "9hWeFNkBD24R",
        "colab_type": "text"
      },
      "source": [
        "FIGURE 2: \n",
        "This figure shows the percentage of Bolivian women in the dataset that have Anemia. Nearly half of the women are anemic (49.3%). According to the World Health Organization, the global average for anemia in non-pregnant women is 30.2%.\n",
        "Image link: https://github.com/marismcguinness/DS3000FinalProject/blob/master/anemiaProportionPieChartCentered.png"
      ]
    },
    {
      "cell_type": "code",
      "metadata": {
        "id": "exxvIZXBm-o5",
        "colab_type": "code",
        "outputId": "7ed3e922-f539-4698-92fd-f69329a1f710",
        "colab": {
          "base_uri": "https://localhost:8080/",
          "height": 617
        }
      },
      "source": [
        "# creates Figure 3 (shown below)\n",
        "colors =['rgb(205,92,92)','rgb(192,192,192)']\n",
        "labels = [\"Anemic\", \"Not Anemic\"]\n",
        "fig = px.histogram(df_anemic_copy, x=\"Education\", color=\"Is anemic?\", marginal=\"violin\", color_discrete_sequence=colors)\n",
        "fig.update_layout(title={'text': \"Distribution of Education of Bolivian Highland Women With and Without Anemia\", 'x':0.5, 'xanchor': 'center', 'yanchor': 'top'},\n",
        "                  xaxis_title=\"Years of Formal Schooling\", yaxis_title=\"Number of Women\", showlegend=False, plot_bgcolor='rgb(245,245,245)',\n",
        "                  legend_orientation=\"h\")\n",
        "fig.show()"
      ],
      "execution_count": 0,
      "outputs": [
        {
          "output_type": "display_data",
          "data": {
            "text/html": [
              "<html>\n",
              "<head><meta charset=\"utf-8\" /></head>\n",
              "<body>\n",
              "    <div>\n",
              "            <script src=\"https://cdnjs.cloudflare.com/ajax/libs/mathjax/2.7.5/MathJax.js?config=TeX-AMS-MML_SVG\"></script><script type=\"text/javascript\">if (window.MathJax) {MathJax.Hub.Config({SVG: {font: \"STIX-Web\"}});}</script>\n",
              "                <script type=\"text/javascript\">window.PlotlyConfig = {MathJaxConfig: 'local'};</script>\n",
              "        <script src=\"https://cdn.plot.ly/plotly-latest.min.js\"></script>    \n",
              "            <div id=\"d0c2a84c-2231-452a-8119-138b54387e2a\" class=\"plotly-graph-div\" style=\"height:600px; width:100%;\"></div>\n",
              "            <script type=\"text/javascript\">\n",
              "                \n",
              "                    window.PLOTLYENV=window.PLOTLYENV || {};\n",
              "                    \n",
              "                if (document.getElementById(\"d0c2a84c-2231-452a-8119-138b54387e2a\")) {\n",
              "                    Plotly.newPlot(\n",
              "                        'd0c2a84c-2231-452a-8119-138b54387e2a',\n",
              "                        [{\"alignmentgroup\": \"True\", \"bingroup\": \"x\", \"hoverlabel\": {\"namelength\": 0}, \"hovertemplate\": \"Is anemic?=Anemic<br>Education=%{x}<br>count=%{y}\", \"legendgroup\": \"Is anemic?=Anemic\", \"marker\": {\"color\": \"rgb(205,92,92)\"}, \"name\": \"Is anemic?=Anemic\", \"offsetgroup\": \"Is anemic?=Anemic\", \"orientation\": \"v\", \"showlegend\": true, \"type\": \"histogram\", \"x\": [5.0, 9.0, 7.0, 6.0, 7.0, 3.0, 12.0, 2.0, 5.0, 1.0, 3.0, 4.0, 5.0, 4.0, 12.0, 8.0, 2.0, 6.0, 4.0, 12.0, 1.0, 6.0, 2.0, 7.0, 4.0, 4.0, 3.0, 4.0, 8.0, 12.0, 8.0, 3.0, 0.0, 5.0, 4.0, 10.0, 0.0, 3.0, 6.0, 7.0, 5.0, 5.0, 10.0, 5.0, 8.0, 8.0, 1.0, 3.0, 7.0, 4.0, 5.0, 6.0, 5.0, 5.0, 13.0, 4.0, 5.0, 11.0, 4.0, 6.0, 3.0, 2.0, 5.0, 8.0, 5.0, 5.0, 5.0], \"xaxis\": \"x\", \"yaxis\": \"y\"}, {\"alignmentgroup\": \"True\", \"hoverlabel\": {\"namelength\": 0}, \"hovertemplate\": \"Is anemic?=Anemic<br>Education=%{x}\", \"legendgroup\": \"Is anemic?=Anemic\", \"marker\": {\"color\": \"rgb(205,92,92)\"}, \"name\": \"Is anemic?=Anemic\", \"offsetgroup\": \"Is anemic?=Anemic\", \"scalegroup\": \"x\", \"showlegend\": false, \"type\": \"violin\", \"x\": [5.0, 9.0, 7.0, 6.0, 7.0, 3.0, 12.0, 2.0, 5.0, 1.0, 3.0, 4.0, 5.0, 4.0, 12.0, 8.0, 2.0, 6.0, 4.0, 12.0, 1.0, 6.0, 2.0, 7.0, 4.0, 4.0, 3.0, 4.0, 8.0, 12.0, 8.0, 3.0, 0.0, 5.0, 4.0, 10.0, 0.0, 3.0, 6.0, 7.0, 5.0, 5.0, 10.0, 5.0, 8.0, 8.0, 1.0, 3.0, 7.0, 4.0, 5.0, 6.0, 5.0, 5.0, 13.0, 4.0, 5.0, 11.0, 4.0, 6.0, 3.0, 2.0, 5.0, 8.0, 5.0, 5.0, 5.0], \"xaxis\": \"x2\", \"yaxis\": \"y2\"}, {\"alignmentgroup\": \"True\", \"bingroup\": \"x\", \"hoverlabel\": {\"namelength\": 0}, \"hovertemplate\": \"Is anemic?=Not Anemic<br>Education=%{x}<br>count=%{y}\", \"legendgroup\": \"Is anemic?=Not Anemic\", \"marker\": {\"color\": \"rgb(192,192,192)\"}, \"name\": \"Is anemic?=Not Anemic\", \"offsetgroup\": \"Is anemic?=Not Anemic\", \"orientation\": \"v\", \"showlegend\": true, \"type\": \"histogram\", \"x\": [0.0, 5.0, 4.0, 13.0, 1.0, 8.0, 2.0, 4.0, 9.0, 5.0, 5.0, 5.0, 3.0, 8.0, 1.0, 2.0, 5.0, 9.0, 5.0, 7.0, 8.0, 3.0, 4.0, 1.0, 0.0, 7.0, 5.0, 6.0, 3.0, 5.0, 3.0, 5.0, 4.0, 2.0, 8.0, 4.0, 3.0, 2.0, 10.0, 6.0, 3.0, 8.0, 8.0, 3.0, 1.0, 4.0, 8.0, 2.0, 2.0, 12.0, 3.0, 5.0, 10.0, 3.0, 3.0, 0.0, 0.0, 1.0, 8.0, 4.0, 3.0, 9.0, 9.0, 10.0, 3.0, 12.0, 5.0, 4.0, 5.0], \"xaxis\": \"x\", \"yaxis\": \"y\"}, {\"alignmentgroup\": \"True\", \"hoverlabel\": {\"namelength\": 0}, \"hovertemplate\": \"Is anemic?=Not Anemic<br>Education=%{x}\", \"legendgroup\": \"Is anemic?=Not Anemic\", \"marker\": {\"color\": \"rgb(192,192,192)\"}, \"name\": \"Is anemic?=Not Anemic\", \"offsetgroup\": \"Is anemic?=Not Anemic\", \"scalegroup\": \"x\", \"showlegend\": false, \"type\": \"violin\", \"x\": [0.0, 5.0, 4.0, 13.0, 1.0, 8.0, 2.0, 4.0, 9.0, 5.0, 5.0, 5.0, 3.0, 8.0, 1.0, 2.0, 5.0, 9.0, 5.0, 7.0, 8.0, 3.0, 4.0, 1.0, 0.0, 7.0, 5.0, 6.0, 3.0, 5.0, 3.0, 5.0, 4.0, 2.0, 8.0, 4.0, 3.0, 2.0, 10.0, 6.0, 3.0, 8.0, 8.0, 3.0, 1.0, 4.0, 8.0, 2.0, 2.0, 12.0, 3.0, 5.0, 10.0, 3.0, 3.0, 0.0, 0.0, 1.0, 8.0, 4.0, 3.0, 9.0, 9.0, 10.0, 3.0, 12.0, 5.0, 4.0, 5.0], \"xaxis\": \"x2\", \"yaxis\": \"y2\"}],\n",
              "                        {\"barmode\": \"relative\", \"height\": 600, \"legend\": {\"orientation\": \"h\", \"tracegroupgap\": 0}, \"margin\": {\"t\": 60}, \"plot_bgcolor\": \"rgb(245,245,245)\", \"showlegend\": false, \"template\": {\"data\": {\"bar\": [{\"error_x\": {\"color\": \"#2a3f5f\"}, \"error_y\": {\"color\": \"#2a3f5f\"}, \"marker\": {\"line\": {\"color\": \"#E5ECF6\", \"width\": 0.5}}, \"type\": \"bar\"}], \"barpolar\": [{\"marker\": {\"line\": {\"color\": \"#E5ECF6\", \"width\": 0.5}}, \"type\": \"barpolar\"}], \"carpet\": [{\"aaxis\": {\"endlinecolor\": \"#2a3f5f\", \"gridcolor\": \"white\", \"linecolor\": \"white\", \"minorgridcolor\": \"white\", \"startlinecolor\": \"#2a3f5f\"}, \"baxis\": {\"endlinecolor\": \"#2a3f5f\", \"gridcolor\": \"white\", \"linecolor\": \"white\", \"minorgridcolor\": \"white\", \"startlinecolor\": \"#2a3f5f\"}, \"type\": \"carpet\"}], \"choropleth\": [{\"colorbar\": {\"outlinewidth\": 0, \"ticks\": \"\"}, \"type\": \"choropleth\"}], \"contour\": [{\"colorbar\": {\"outlinewidth\": 0, \"ticks\": \"\"}, \"colorscale\": [[0.0, \"#0d0887\"], [0.1111111111111111, \"#46039f\"], [0.2222222222222222, \"#7201a8\"], [0.3333333333333333, \"#9c179e\"], [0.4444444444444444, \"#bd3786\"], [0.5555555555555556, \"#d8576b\"], [0.6666666666666666, \"#ed7953\"], [0.7777777777777778, \"#fb9f3a\"], [0.8888888888888888, \"#fdca26\"], [1.0, \"#f0f921\"]], \"type\": \"contour\"}], \"contourcarpet\": [{\"colorbar\": {\"outlinewidth\": 0, \"ticks\": \"\"}, \"type\": \"contourcarpet\"}], \"heatmap\": [{\"colorbar\": {\"outlinewidth\": 0, \"ticks\": \"\"}, \"colorscale\": [[0.0, \"#0d0887\"], [0.1111111111111111, \"#46039f\"], [0.2222222222222222, \"#7201a8\"], [0.3333333333333333, \"#9c179e\"], [0.4444444444444444, \"#bd3786\"], [0.5555555555555556, \"#d8576b\"], [0.6666666666666666, \"#ed7953\"], [0.7777777777777778, \"#fb9f3a\"], [0.8888888888888888, \"#fdca26\"], [1.0, \"#f0f921\"]], \"type\": \"heatmap\"}], \"heatmapgl\": [{\"colorbar\": {\"outlinewidth\": 0, \"ticks\": \"\"}, \"colorscale\": [[0.0, \"#0d0887\"], [0.1111111111111111, \"#46039f\"], [0.2222222222222222, \"#7201a8\"], [0.3333333333333333, \"#9c179e\"], [0.4444444444444444, \"#bd3786\"], [0.5555555555555556, \"#d8576b\"], [0.6666666666666666, \"#ed7953\"], [0.7777777777777778, \"#fb9f3a\"], [0.8888888888888888, \"#fdca26\"], [1.0, \"#f0f921\"]], \"type\": \"heatmapgl\"}], \"histogram\": [{\"marker\": {\"colorbar\": {\"outlinewidth\": 0, \"ticks\": \"\"}}, \"type\": \"histogram\"}], \"histogram2d\": [{\"colorbar\": {\"outlinewidth\": 0, \"ticks\": \"\"}, \"colorscale\": [[0.0, \"#0d0887\"], [0.1111111111111111, \"#46039f\"], [0.2222222222222222, \"#7201a8\"], [0.3333333333333333, \"#9c179e\"], [0.4444444444444444, \"#bd3786\"], [0.5555555555555556, \"#d8576b\"], [0.6666666666666666, \"#ed7953\"], [0.7777777777777778, \"#fb9f3a\"], [0.8888888888888888, \"#fdca26\"], [1.0, \"#f0f921\"]], \"type\": \"histogram2d\"}], \"histogram2dcontour\": [{\"colorbar\": {\"outlinewidth\": 0, \"ticks\": \"\"}, \"colorscale\": [[0.0, \"#0d0887\"], [0.1111111111111111, \"#46039f\"], [0.2222222222222222, \"#7201a8\"], [0.3333333333333333, \"#9c179e\"], [0.4444444444444444, \"#bd3786\"], [0.5555555555555556, \"#d8576b\"], [0.6666666666666666, \"#ed7953\"], [0.7777777777777778, \"#fb9f3a\"], [0.8888888888888888, \"#fdca26\"], [1.0, \"#f0f921\"]], \"type\": \"histogram2dcontour\"}], \"mesh3d\": [{\"colorbar\": {\"outlinewidth\": 0, \"ticks\": \"\"}, \"type\": \"mesh3d\"}], \"parcoords\": [{\"line\": {\"colorbar\": {\"outlinewidth\": 0, \"ticks\": \"\"}}, \"type\": \"parcoords\"}], \"scatter\": [{\"marker\": {\"colorbar\": {\"outlinewidth\": 0, \"ticks\": \"\"}}, \"type\": \"scatter\"}], \"scatter3d\": [{\"line\": {\"colorbar\": {\"outlinewidth\": 0, \"ticks\": \"\"}}, \"marker\": {\"colorbar\": {\"outlinewidth\": 0, \"ticks\": \"\"}}, \"type\": \"scatter3d\"}], \"scattercarpet\": [{\"marker\": {\"colorbar\": {\"outlinewidth\": 0, \"ticks\": \"\"}}, \"type\": \"scattercarpet\"}], \"scattergeo\": [{\"marker\": {\"colorbar\": {\"outlinewidth\": 0, \"ticks\": \"\"}}, \"type\": \"scattergeo\"}], \"scattergl\": [{\"marker\": {\"colorbar\": {\"outlinewidth\": 0, \"ticks\": \"\"}}, \"type\": \"scattergl\"}], \"scattermapbox\": [{\"marker\": {\"colorbar\": {\"outlinewidth\": 0, \"ticks\": \"\"}}, \"type\": \"scattermapbox\"}], \"scatterpolar\": [{\"marker\": {\"colorbar\": {\"outlinewidth\": 0, \"ticks\": \"\"}}, \"type\": \"scatterpolar\"}], \"scatterpolargl\": [{\"marker\": {\"colorbar\": {\"outlinewidth\": 0, \"ticks\": \"\"}}, \"type\": \"scatterpolargl\"}], \"scatterternary\": [{\"marker\": {\"colorbar\": {\"outlinewidth\": 0, \"ticks\": \"\"}}, \"type\": \"scatterternary\"}], \"surface\": [{\"colorbar\": {\"outlinewidth\": 0, \"ticks\": \"\"}, \"colorscale\": [[0.0, \"#0d0887\"], [0.1111111111111111, \"#46039f\"], [0.2222222222222222, \"#7201a8\"], [0.3333333333333333, \"#9c179e\"], [0.4444444444444444, \"#bd3786\"], [0.5555555555555556, \"#d8576b\"], [0.6666666666666666, \"#ed7953\"], [0.7777777777777778, \"#fb9f3a\"], [0.8888888888888888, \"#fdca26\"], [1.0, \"#f0f921\"]], \"type\": \"surface\"}], \"table\": [{\"cells\": {\"fill\": {\"color\": \"#EBF0F8\"}, \"line\": {\"color\": \"white\"}}, \"header\": {\"fill\": {\"color\": \"#C8D4E3\"}, \"line\": {\"color\": \"white\"}}, \"type\": \"table\"}]}, \"layout\": {\"annotationdefaults\": {\"arrowcolor\": \"#2a3f5f\", \"arrowhead\": 0, \"arrowwidth\": 1}, \"colorscale\": {\"diverging\": [[0, \"#8e0152\"], [0.1, \"#c51b7d\"], [0.2, \"#de77ae\"], [0.3, \"#f1b6da\"], [0.4, \"#fde0ef\"], [0.5, \"#f7f7f7\"], [0.6, \"#e6f5d0\"], [0.7, \"#b8e186\"], [0.8, \"#7fbc41\"], [0.9, \"#4d9221\"], [1, \"#276419\"]], \"sequential\": [[0.0, \"#0d0887\"], [0.1111111111111111, \"#46039f\"], [0.2222222222222222, \"#7201a8\"], [0.3333333333333333, \"#9c179e\"], [0.4444444444444444, \"#bd3786\"], [0.5555555555555556, \"#d8576b\"], [0.6666666666666666, \"#ed7953\"], [0.7777777777777778, \"#fb9f3a\"], [0.8888888888888888, \"#fdca26\"], [1.0, \"#f0f921\"]], \"sequentialminus\": [[0.0, \"#0d0887\"], [0.1111111111111111, \"#46039f\"], [0.2222222222222222, \"#7201a8\"], [0.3333333333333333, \"#9c179e\"], [0.4444444444444444, \"#bd3786\"], [0.5555555555555556, \"#d8576b\"], [0.6666666666666666, \"#ed7953\"], [0.7777777777777778, \"#fb9f3a\"], [0.8888888888888888, \"#fdca26\"], [1.0, \"#f0f921\"]]}, \"colorway\": [\"#636efa\", \"#EF553B\", \"#00cc96\", \"#ab63fa\", \"#FFA15A\", \"#19d3f3\", \"#FF6692\", \"#B6E880\", \"#FF97FF\", \"#FECB52\"], \"font\": {\"color\": \"#2a3f5f\"}, \"geo\": {\"bgcolor\": \"white\", \"lakecolor\": \"white\", \"landcolor\": \"#E5ECF6\", \"showlakes\": true, \"showland\": true, \"subunitcolor\": \"white\"}, \"hoverlabel\": {\"align\": \"left\"}, \"hovermode\": \"closest\", \"mapbox\": {\"style\": \"light\"}, \"paper_bgcolor\": \"white\", \"plot_bgcolor\": \"#E5ECF6\", \"polar\": {\"angularaxis\": {\"gridcolor\": \"white\", \"linecolor\": \"white\", \"ticks\": \"\"}, \"bgcolor\": \"#E5ECF6\", \"radialaxis\": {\"gridcolor\": \"white\", \"linecolor\": \"white\", \"ticks\": \"\"}}, \"scene\": {\"xaxis\": {\"backgroundcolor\": \"#E5ECF6\", \"gridcolor\": \"white\", \"gridwidth\": 2, \"linecolor\": \"white\", \"showbackground\": true, \"ticks\": \"\", \"zerolinecolor\": \"white\"}, \"yaxis\": {\"backgroundcolor\": \"#E5ECF6\", \"gridcolor\": \"white\", \"gridwidth\": 2, \"linecolor\": \"white\", \"showbackground\": true, \"ticks\": \"\", \"zerolinecolor\": \"white\"}, \"zaxis\": {\"backgroundcolor\": \"#E5ECF6\", \"gridcolor\": \"white\", \"gridwidth\": 2, \"linecolor\": \"white\", \"showbackground\": true, \"ticks\": \"\", \"zerolinecolor\": \"white\"}}, \"shapedefaults\": {\"line\": {\"color\": \"#2a3f5f\"}}, \"ternary\": {\"aaxis\": {\"gridcolor\": \"white\", \"linecolor\": \"white\", \"ticks\": \"\"}, \"baxis\": {\"gridcolor\": \"white\", \"linecolor\": \"white\", \"ticks\": \"\"}, \"bgcolor\": \"#E5ECF6\", \"caxis\": {\"gridcolor\": \"white\", \"linecolor\": \"white\", \"ticks\": \"\"}}, \"title\": {\"x\": 0.05}, \"xaxis\": {\"automargin\": true, \"gridcolor\": \"white\", \"linecolor\": \"white\", \"ticks\": \"\", \"zerolinecolor\": \"white\", \"zerolinewidth\": 2}, \"yaxis\": {\"automargin\": true, \"gridcolor\": \"white\", \"linecolor\": \"white\", \"ticks\": \"\", \"zerolinecolor\": \"white\", \"zerolinewidth\": 2}}}, \"title\": {\"text\": \"Distribution of Education of Bolivian Highland Women With and Without Anemia\", \"x\": 0.5, \"xanchor\": \"center\", \"yanchor\": \"top\"}, \"xaxis\": {\"anchor\": \"y\", \"domain\": [0.0, 0.98], \"title\": {\"text\": \"Years of Formal Schooling\"}}, \"xaxis2\": {\"anchor\": \"y2\", \"domain\": [0.0, 0.98], \"matches\": \"x\", \"showgrid\": true, \"showticklabels\": false}, \"yaxis\": {\"anchor\": \"x\", \"domain\": [0.0, 0.7326], \"title\": {\"text\": \"Number of Women\"}}, \"yaxis2\": {\"anchor\": \"x2\", \"domain\": [0.7426, 1.0], \"matches\": \"y2\", \"showgrid\": false, \"showticklabels\": false}},\n",
              "                        {\"responsive\": true}\n",
              "                    ).then(function(){\n",
              "                            \n",
              "var gd = document.getElementById('d0c2a84c-2231-452a-8119-138b54387e2a');\n",
              "var x = new MutationObserver(function (mutations, observer) {{\n",
              "        var display = window.getComputedStyle(gd).display;\n",
              "        if (!display || display === 'none') {{\n",
              "            console.log([gd, 'removed!']);\n",
              "            Plotly.purge(gd);\n",
              "            observer.disconnect();\n",
              "        }}\n",
              "}});\n",
              "\n",
              "// Listen for the removal of the full notebook cells\n",
              "var notebookContainer = gd.closest('#notebook-container');\n",
              "if (notebookContainer) {{\n",
              "    x.observe(notebookContainer, {childList: true});\n",
              "}}\n",
              "\n",
              "// Listen for the clearing of the current output cell\n",
              "var outputEl = gd.closest('.output');\n",
              "if (outputEl) {{\n",
              "    x.observe(outputEl, {childList: true});\n",
              "}}\n",
              "\n",
              "                        })\n",
              "                };\n",
              "                \n",
              "            </script>\n",
              "        </div>\n",
              "</body>\n",
              "</html>"
            ]
          },
          "metadata": {
            "tags": []
          }
        }
      ]
    },
    {
      "cell_type": "markdown",
      "metadata": {
        "id": "h3PP67aFD5p3",
        "colab_type": "text"
      },
      "source": [
        "FIGURE 3:\n",
        "This figure shows a stacked Histogram of the education distribution amongst Bolivian women. The red Histogram represents the distrubution amongst women with Anemia, while the gray Histogram represents the distrubution amongst women without Anemia. The distributions of both Histograms are very similar. Interestingly, the median years of education for women with anemia (5 years) is one year greater than the median years of education for women with anemia (4 years). This suggests that Anemic women in Bolivia are more educated than women without anemia, however, this is not conclusive evidence.\n",
        "Image link: https://github.com/marismcguinness/DS3000FinalProject/blob/master/educationDistributionHistogram.png\n"
      ]
    },
    {
      "cell_type": "code",
      "metadata": {
        "id": "314o63HBm-_W",
        "colab_type": "code",
        "outputId": "f4b4397e-2801-4b40-e33f-9715bd37402b",
        "colab": {
          "base_uri": "https://localhost:8080/",
          "height": 617
        }
      },
      "source": [
        "# creates Figure 4 (shown below)\n",
        "colors =['rgb(205,92,92)','rgb(192,192,192)']\n",
        "labels = [\"Anemic\", \"Not Anemic\"]\n",
        "fig = px.histogram(df_anemic_copy, x=\"Age\", color=\"Is anemic?\", marginal=\"violin\", color_discrete_sequence=colors)\n",
        "fig.update_layout(title={'text': \"Distribution of Age of Bolivian Highland Women With and Without Anemia\", 'x':0.5, 'xanchor': 'center', 'yanchor': 'top'},\n",
        "                  xaxis_title=\"Age\", yaxis_title=\"Number of Women\", showlegend=False, plot_bgcolor='rgb(245,245,245)',\n",
        "                  legend_orientation=\"h\")\n",
        "fig.show()"
      ],
      "execution_count": 0,
      "outputs": [
        {
          "output_type": "display_data",
          "data": {
            "text/html": [
              "<html>\n",
              "<head><meta charset=\"utf-8\" /></head>\n",
              "<body>\n",
              "    <div>\n",
              "            <script src=\"https://cdnjs.cloudflare.com/ajax/libs/mathjax/2.7.5/MathJax.js?config=TeX-AMS-MML_SVG\"></script><script type=\"text/javascript\">if (window.MathJax) {MathJax.Hub.Config({SVG: {font: \"STIX-Web\"}});}</script>\n",
              "                <script type=\"text/javascript\">window.PlotlyConfig = {MathJaxConfig: 'local'};</script>\n",
              "        <script src=\"https://cdn.plot.ly/plotly-latest.min.js\"></script>    \n",
              "            <div id=\"3dd482cf-7bf2-4e89-a41c-f9fb1ec9d111\" class=\"plotly-graph-div\" style=\"height:600px; width:100%;\"></div>\n",
              "            <script type=\"text/javascript\">\n",
              "                \n",
              "                    window.PLOTLYENV=window.PLOTLYENV || {};\n",
              "                    \n",
              "                if (document.getElementById(\"3dd482cf-7bf2-4e89-a41c-f9fb1ec9d111\")) {\n",
              "                    Plotly.newPlot(\n",
              "                        '3dd482cf-7bf2-4e89-a41c-f9fb1ec9d111',\n",
              "                        [{\"alignmentgroup\": \"True\", \"bingroup\": \"x\", \"hoverlabel\": {\"namelength\": 0}, \"hovertemplate\": \"Is anemic?=Anemic<br>Age=%{x}<br>count=%{y}\", \"legendgroup\": \"Is anemic?=Anemic\", \"marker\": {\"color\": \"rgb(205,92,92)\"}, \"name\": \"Is anemic?=Anemic\", \"offsetgroup\": \"Is anemic?=Anemic\", \"orientation\": \"v\", \"showlegend\": true, \"type\": \"histogram\", \"x\": [24.0, 25.0, 30.0, 25.0, 34.0, 31.0, 26.0, 36.0, 28.0, 35.0, 33.0, 24.0, 32.0, 25.0, 23.0, 31.0, 22.0, 32.0, 35.0, 19.0, 22.0, 36.0, 34.0, 31.0, 25.0, 33.0, 23.0, 33.0, 22.0, 31.0, 31.0, 38.0, 39.0, 31.0, 27.0, 25.0, 35.0, 35.0, 22.0, 34.0, 32.0, 23.0, 22.0, 24.0, 22.0, 22.0, 36.0, 23.0, 30.0, 36.0, 23.0, 35.0, 24.0, 29.0, 24.0, 28.0, 31.0, 29.0, 22.0, 24.0, 34.0, 28.0, 24.0, 27.0, 23.0, 37.0, 35.0], \"xaxis\": \"x\", \"yaxis\": \"y\"}, {\"alignmentgroup\": \"True\", \"hoverlabel\": {\"namelength\": 0}, \"hovertemplate\": \"Is anemic?=Anemic<br>Age=%{x}\", \"legendgroup\": \"Is anemic?=Anemic\", \"marker\": {\"color\": \"rgb(205,92,92)\"}, \"name\": \"Is anemic?=Anemic\", \"offsetgroup\": \"Is anemic?=Anemic\", \"scalegroup\": \"x\", \"showlegend\": false, \"type\": \"violin\", \"x\": [24.0, 25.0, 30.0, 25.0, 34.0, 31.0, 26.0, 36.0, 28.0, 35.0, 33.0, 24.0, 32.0, 25.0, 23.0, 31.0, 22.0, 32.0, 35.0, 19.0, 22.0, 36.0, 34.0, 31.0, 25.0, 33.0, 23.0, 33.0, 22.0, 31.0, 31.0, 38.0, 39.0, 31.0, 27.0, 25.0, 35.0, 35.0, 22.0, 34.0, 32.0, 23.0, 22.0, 24.0, 22.0, 22.0, 36.0, 23.0, 30.0, 36.0, 23.0, 35.0, 24.0, 29.0, 24.0, 28.0, 31.0, 29.0, 22.0, 24.0, 34.0, 28.0, 24.0, 27.0, 23.0, 37.0, 35.0], \"xaxis\": \"x2\", \"yaxis\": \"y2\"}, {\"alignmentgroup\": \"True\", \"bingroup\": \"x\", \"hoverlabel\": {\"namelength\": 0}, \"hovertemplate\": \"Is anemic?=Not Anemic<br>Age=%{x}<br>count=%{y}\", \"legendgroup\": \"Is anemic?=Not Anemic\", \"marker\": {\"color\": \"rgb(192,192,192)\"}, \"name\": \"Is anemic?=Not Anemic\", \"offsetgroup\": \"Is anemic?=Not Anemic\", \"orientation\": \"v\", \"showlegend\": true, \"type\": \"histogram\", \"x\": [29.0, 30.0, 28.0, 27.0, 34.0, 31.0, 24.0, 30.0, 19.0, 24.0, 24.0, 32.0, 32.0, 34.0, 32.0, 24.0, 26.0, 33.0, 25.0, 25.0, 25.0, 22.0, 20.0, 34.0, 36.0, 32.0, 35.0, 29.0, 33.0, 23.0, 21.0, 30.0, 27.0, 29.0, 17.0, 34.0, 27.0, 34.0, 34.0, 28.0, 35.0, 21.0, 33.0, 31.0, 30.0, 32.0, 23.0, 31.0, 32.0, 23.0, 33.0, 35.0, 24.0, 24.0, 23.0, 35.0, 37.0, 36.0, 23.0, 22.0, 32.0, 23.0, 35.0, 22.0, 28.0, 21.0, 23.0, 34.0, 22.0], \"xaxis\": \"x\", \"yaxis\": \"y\"}, {\"alignmentgroup\": \"True\", \"hoverlabel\": {\"namelength\": 0}, \"hovertemplate\": \"Is anemic?=Not Anemic<br>Age=%{x}\", \"legendgroup\": \"Is anemic?=Not Anemic\", \"marker\": {\"color\": \"rgb(192,192,192)\"}, \"name\": \"Is anemic?=Not Anemic\", \"offsetgroup\": \"Is anemic?=Not Anemic\", \"scalegroup\": \"x\", \"showlegend\": false, \"type\": \"violin\", \"x\": [29.0, 30.0, 28.0, 27.0, 34.0, 31.0, 24.0, 30.0, 19.0, 24.0, 24.0, 32.0, 32.0, 34.0, 32.0, 24.0, 26.0, 33.0, 25.0, 25.0, 25.0, 22.0, 20.0, 34.0, 36.0, 32.0, 35.0, 29.0, 33.0, 23.0, 21.0, 30.0, 27.0, 29.0, 17.0, 34.0, 27.0, 34.0, 34.0, 28.0, 35.0, 21.0, 33.0, 31.0, 30.0, 32.0, 23.0, 31.0, 32.0, 23.0, 33.0, 35.0, 24.0, 24.0, 23.0, 35.0, 37.0, 36.0, 23.0, 22.0, 32.0, 23.0, 35.0, 22.0, 28.0, 21.0, 23.0, 34.0, 22.0], \"xaxis\": \"x2\", \"yaxis\": \"y2\"}],\n",
              "                        {\"barmode\": \"relative\", \"height\": 600, \"legend\": {\"orientation\": \"h\", \"tracegroupgap\": 0}, \"margin\": {\"t\": 60}, \"plot_bgcolor\": \"rgb(245,245,245)\", \"showlegend\": false, \"template\": {\"data\": {\"bar\": [{\"error_x\": {\"color\": \"#2a3f5f\"}, \"error_y\": {\"color\": \"#2a3f5f\"}, \"marker\": {\"line\": {\"color\": \"#E5ECF6\", \"width\": 0.5}}, \"type\": \"bar\"}], \"barpolar\": [{\"marker\": {\"line\": {\"color\": \"#E5ECF6\", \"width\": 0.5}}, \"type\": \"barpolar\"}], \"carpet\": [{\"aaxis\": {\"endlinecolor\": \"#2a3f5f\", \"gridcolor\": \"white\", \"linecolor\": \"white\", \"minorgridcolor\": \"white\", \"startlinecolor\": \"#2a3f5f\"}, \"baxis\": {\"endlinecolor\": \"#2a3f5f\", \"gridcolor\": \"white\", \"linecolor\": \"white\", \"minorgridcolor\": \"white\", \"startlinecolor\": \"#2a3f5f\"}, \"type\": \"carpet\"}], \"choropleth\": [{\"colorbar\": {\"outlinewidth\": 0, \"ticks\": \"\"}, \"type\": \"choropleth\"}], \"contour\": [{\"colorbar\": {\"outlinewidth\": 0, \"ticks\": \"\"}, \"colorscale\": [[0.0, \"#0d0887\"], [0.1111111111111111, \"#46039f\"], [0.2222222222222222, \"#7201a8\"], [0.3333333333333333, \"#9c179e\"], [0.4444444444444444, \"#bd3786\"], [0.5555555555555556, \"#d8576b\"], [0.6666666666666666, \"#ed7953\"], [0.7777777777777778, \"#fb9f3a\"], [0.8888888888888888, \"#fdca26\"], [1.0, \"#f0f921\"]], \"type\": \"contour\"}], \"contourcarpet\": [{\"colorbar\": {\"outlinewidth\": 0, \"ticks\": \"\"}, \"type\": \"contourcarpet\"}], \"heatmap\": [{\"colorbar\": {\"outlinewidth\": 0, \"ticks\": \"\"}, \"colorscale\": [[0.0, \"#0d0887\"], [0.1111111111111111, \"#46039f\"], [0.2222222222222222, \"#7201a8\"], [0.3333333333333333, \"#9c179e\"], [0.4444444444444444, \"#bd3786\"], [0.5555555555555556, \"#d8576b\"], [0.6666666666666666, \"#ed7953\"], [0.7777777777777778, \"#fb9f3a\"], [0.8888888888888888, \"#fdca26\"], [1.0, \"#f0f921\"]], \"type\": \"heatmap\"}], \"heatmapgl\": [{\"colorbar\": {\"outlinewidth\": 0, \"ticks\": \"\"}, \"colorscale\": [[0.0, \"#0d0887\"], [0.1111111111111111, \"#46039f\"], [0.2222222222222222, \"#7201a8\"], [0.3333333333333333, \"#9c179e\"], [0.4444444444444444, \"#bd3786\"], [0.5555555555555556, \"#d8576b\"], [0.6666666666666666, \"#ed7953\"], [0.7777777777777778, \"#fb9f3a\"], [0.8888888888888888, \"#fdca26\"], [1.0, \"#f0f921\"]], \"type\": \"heatmapgl\"}], \"histogram\": [{\"marker\": {\"colorbar\": {\"outlinewidth\": 0, \"ticks\": \"\"}}, \"type\": \"histogram\"}], \"histogram2d\": [{\"colorbar\": {\"outlinewidth\": 0, \"ticks\": \"\"}, \"colorscale\": [[0.0, \"#0d0887\"], [0.1111111111111111, \"#46039f\"], [0.2222222222222222, \"#7201a8\"], [0.3333333333333333, \"#9c179e\"], [0.4444444444444444, \"#bd3786\"], [0.5555555555555556, \"#d8576b\"], [0.6666666666666666, \"#ed7953\"], [0.7777777777777778, \"#fb9f3a\"], [0.8888888888888888, \"#fdca26\"], [1.0, \"#f0f921\"]], \"type\": \"histogram2d\"}], \"histogram2dcontour\": [{\"colorbar\": {\"outlinewidth\": 0, \"ticks\": \"\"}, \"colorscale\": [[0.0, \"#0d0887\"], [0.1111111111111111, \"#46039f\"], [0.2222222222222222, \"#7201a8\"], [0.3333333333333333, \"#9c179e\"], [0.4444444444444444, \"#bd3786\"], [0.5555555555555556, \"#d8576b\"], [0.6666666666666666, \"#ed7953\"], [0.7777777777777778, \"#fb9f3a\"], [0.8888888888888888, \"#fdca26\"], [1.0, \"#f0f921\"]], \"type\": \"histogram2dcontour\"}], \"mesh3d\": [{\"colorbar\": {\"outlinewidth\": 0, \"ticks\": \"\"}, \"type\": \"mesh3d\"}], \"parcoords\": [{\"line\": {\"colorbar\": {\"outlinewidth\": 0, \"ticks\": \"\"}}, \"type\": \"parcoords\"}], \"scatter\": [{\"marker\": {\"colorbar\": {\"outlinewidth\": 0, \"ticks\": \"\"}}, \"type\": \"scatter\"}], \"scatter3d\": [{\"line\": {\"colorbar\": {\"outlinewidth\": 0, \"ticks\": \"\"}}, \"marker\": {\"colorbar\": {\"outlinewidth\": 0, \"ticks\": \"\"}}, \"type\": \"scatter3d\"}], \"scattercarpet\": [{\"marker\": {\"colorbar\": {\"outlinewidth\": 0, \"ticks\": \"\"}}, \"type\": \"scattercarpet\"}], \"scattergeo\": [{\"marker\": {\"colorbar\": {\"outlinewidth\": 0, \"ticks\": \"\"}}, \"type\": \"scattergeo\"}], \"scattergl\": [{\"marker\": {\"colorbar\": {\"outlinewidth\": 0, \"ticks\": \"\"}}, \"type\": \"scattergl\"}], \"scattermapbox\": [{\"marker\": {\"colorbar\": {\"outlinewidth\": 0, \"ticks\": \"\"}}, \"type\": \"scattermapbox\"}], \"scatterpolar\": [{\"marker\": {\"colorbar\": {\"outlinewidth\": 0, \"ticks\": \"\"}}, \"type\": \"scatterpolar\"}], \"scatterpolargl\": [{\"marker\": {\"colorbar\": {\"outlinewidth\": 0, \"ticks\": \"\"}}, \"type\": \"scatterpolargl\"}], \"scatterternary\": [{\"marker\": {\"colorbar\": {\"outlinewidth\": 0, \"ticks\": \"\"}}, \"type\": \"scatterternary\"}], \"surface\": [{\"colorbar\": {\"outlinewidth\": 0, \"ticks\": \"\"}, \"colorscale\": [[0.0, \"#0d0887\"], [0.1111111111111111, \"#46039f\"], [0.2222222222222222, \"#7201a8\"], [0.3333333333333333, \"#9c179e\"], [0.4444444444444444, \"#bd3786\"], [0.5555555555555556, \"#d8576b\"], [0.6666666666666666, \"#ed7953\"], [0.7777777777777778, \"#fb9f3a\"], [0.8888888888888888, \"#fdca26\"], [1.0, \"#f0f921\"]], \"type\": \"surface\"}], \"table\": [{\"cells\": {\"fill\": {\"color\": \"#EBF0F8\"}, \"line\": {\"color\": \"white\"}}, \"header\": {\"fill\": {\"color\": \"#C8D4E3\"}, \"line\": {\"color\": \"white\"}}, \"type\": \"table\"}]}, \"layout\": {\"annotationdefaults\": {\"arrowcolor\": \"#2a3f5f\", \"arrowhead\": 0, \"arrowwidth\": 1}, \"colorscale\": {\"diverging\": [[0, \"#8e0152\"], [0.1, \"#c51b7d\"], [0.2, \"#de77ae\"], [0.3, \"#f1b6da\"], [0.4, \"#fde0ef\"], [0.5, \"#f7f7f7\"], [0.6, \"#e6f5d0\"], [0.7, \"#b8e186\"], [0.8, \"#7fbc41\"], [0.9, \"#4d9221\"], [1, \"#276419\"]], \"sequential\": [[0.0, \"#0d0887\"], [0.1111111111111111, \"#46039f\"], [0.2222222222222222, \"#7201a8\"], [0.3333333333333333, \"#9c179e\"], [0.4444444444444444, \"#bd3786\"], [0.5555555555555556, \"#d8576b\"], [0.6666666666666666, \"#ed7953\"], [0.7777777777777778, \"#fb9f3a\"], [0.8888888888888888, \"#fdca26\"], [1.0, \"#f0f921\"]], \"sequentialminus\": [[0.0, \"#0d0887\"], [0.1111111111111111, \"#46039f\"], [0.2222222222222222, \"#7201a8\"], [0.3333333333333333, \"#9c179e\"], [0.4444444444444444, \"#bd3786\"], [0.5555555555555556, \"#d8576b\"], [0.6666666666666666, \"#ed7953\"], [0.7777777777777778, \"#fb9f3a\"], [0.8888888888888888, \"#fdca26\"], [1.0, \"#f0f921\"]]}, \"colorway\": [\"#636efa\", \"#EF553B\", \"#00cc96\", \"#ab63fa\", \"#FFA15A\", \"#19d3f3\", \"#FF6692\", \"#B6E880\", \"#FF97FF\", \"#FECB52\"], \"font\": {\"color\": \"#2a3f5f\"}, \"geo\": {\"bgcolor\": \"white\", \"lakecolor\": \"white\", \"landcolor\": \"#E5ECF6\", \"showlakes\": true, \"showland\": true, \"subunitcolor\": \"white\"}, \"hoverlabel\": {\"align\": \"left\"}, \"hovermode\": \"closest\", \"mapbox\": {\"style\": \"light\"}, \"paper_bgcolor\": \"white\", \"plot_bgcolor\": \"#E5ECF6\", \"polar\": {\"angularaxis\": {\"gridcolor\": \"white\", \"linecolor\": \"white\", \"ticks\": \"\"}, \"bgcolor\": \"#E5ECF6\", \"radialaxis\": {\"gridcolor\": \"white\", \"linecolor\": \"white\", \"ticks\": \"\"}}, \"scene\": {\"xaxis\": {\"backgroundcolor\": \"#E5ECF6\", \"gridcolor\": \"white\", \"gridwidth\": 2, \"linecolor\": \"white\", \"showbackground\": true, \"ticks\": \"\", \"zerolinecolor\": \"white\"}, \"yaxis\": {\"backgroundcolor\": \"#E5ECF6\", \"gridcolor\": \"white\", \"gridwidth\": 2, \"linecolor\": \"white\", \"showbackground\": true, \"ticks\": \"\", \"zerolinecolor\": \"white\"}, \"zaxis\": {\"backgroundcolor\": \"#E5ECF6\", \"gridcolor\": \"white\", \"gridwidth\": 2, \"linecolor\": \"white\", \"showbackground\": true, \"ticks\": \"\", \"zerolinecolor\": \"white\"}}, \"shapedefaults\": {\"line\": {\"color\": \"#2a3f5f\"}}, \"ternary\": {\"aaxis\": {\"gridcolor\": \"white\", \"linecolor\": \"white\", \"ticks\": \"\"}, \"baxis\": {\"gridcolor\": \"white\", \"linecolor\": \"white\", \"ticks\": \"\"}, \"bgcolor\": \"#E5ECF6\", \"caxis\": {\"gridcolor\": \"white\", \"linecolor\": \"white\", \"ticks\": \"\"}}, \"title\": {\"x\": 0.05}, \"xaxis\": {\"automargin\": true, \"gridcolor\": \"white\", \"linecolor\": \"white\", \"ticks\": \"\", \"zerolinecolor\": \"white\", \"zerolinewidth\": 2}, \"yaxis\": {\"automargin\": true, \"gridcolor\": \"white\", \"linecolor\": \"white\", \"ticks\": \"\", \"zerolinecolor\": \"white\", \"zerolinewidth\": 2}}}, \"title\": {\"text\": \"Distribution of Age of Bolivian Highland Women With and Without Anemia\", \"x\": 0.5, \"xanchor\": \"center\", \"yanchor\": \"top\"}, \"xaxis\": {\"anchor\": \"y\", \"domain\": [0.0, 0.98], \"title\": {\"text\": \"Age\"}}, \"xaxis2\": {\"anchor\": \"y2\", \"domain\": [0.0, 0.98], \"matches\": \"x\", \"showgrid\": true, \"showticklabels\": false}, \"yaxis\": {\"anchor\": \"x\", \"domain\": [0.0, 0.7326], \"title\": {\"text\": \"Number of Women\"}}, \"yaxis2\": {\"anchor\": \"x2\", \"domain\": [0.7426, 1.0], \"matches\": \"y2\", \"showgrid\": false, \"showticklabels\": false}},\n",
              "                        {\"responsive\": true}\n",
              "                    ).then(function(){\n",
              "                            \n",
              "var gd = document.getElementById('3dd482cf-7bf2-4e89-a41c-f9fb1ec9d111');\n",
              "var x = new MutationObserver(function (mutations, observer) {{\n",
              "        var display = window.getComputedStyle(gd).display;\n",
              "        if (!display || display === 'none') {{\n",
              "            console.log([gd, 'removed!']);\n",
              "            Plotly.purge(gd);\n",
              "            observer.disconnect();\n",
              "        }}\n",
              "}});\n",
              "\n",
              "// Listen for the removal of the full notebook cells\n",
              "var notebookContainer = gd.closest('#notebook-container');\n",
              "if (notebookContainer) {{\n",
              "    x.observe(notebookContainer, {childList: true});\n",
              "}}\n",
              "\n",
              "// Listen for the clearing of the current output cell\n",
              "var outputEl = gd.closest('.output');\n",
              "if (outputEl) {{\n",
              "    x.observe(outputEl, {childList: true});\n",
              "}}\n",
              "\n",
              "                        })\n",
              "                };\n",
              "                \n",
              "            </script>\n",
              "        </div>\n",
              "</body>\n",
              "</html>"
            ]
          },
          "metadata": {
            "tags": []
          }
        }
      ]
    },
    {
      "cell_type": "markdown",
      "metadata": {
        "id": "-GXpVTRJD-HC",
        "colab_type": "text"
      },
      "source": [
        "FIGURE 4:\n",
        "This figure shows a stacked Histogram of the age distribution amongst Bolivian women. The red Histogram represents the distrubution amongst women with Anemia, while the gray Histogram represents the distrubution amongst women without Anemia. The distributions of both Histograms are very similar, showing two peaks centered around the ages of 22-23 years and 34-35 years. Interesting, the age distribution of women with anemia is skewed very slightly more so to the right than the age distribution of women without anemia. According to the American Society of Hematology, the risk of anemia increases as women get older.\n",
        "Image link: https://github.com/marismcguinness/DS3000FinalProject/blob/master/ageDistributionHistogram.png"
      ]
    },
    {
      "cell_type": "code",
      "metadata": {
        "id": "IjHTFLWYnX5i",
        "colab_type": "code",
        "outputId": "7b49983e-6dfd-44ce-b9d7-7f9024587a37",
        "colab": {
          "base_uri": "https://localhost:8080/",
          "height": 617
        }
      },
      "source": [
        "# creates Figure 5 (shown below)\n",
        "df_anemic_grouped = df_anemic_copy.groupby([\"Is anemic?\"]).mean()\n",
        "df_anemic_grouped.reset_index(inplace=True)\n",
        "colors =['rgb(205,92,92)','rgb(192,192,192)']\n",
        "fig = px.bar(df_anemic_grouped, x='Is anemic?', y='How serious is anemia?', barmode=\"group\", labels = {\"Is anemic?\": \"\", \"How serious is anemia?\": \"How Serious is Anemia?\"})\n",
        "fig.update_layout(showlegend=False, plot_bgcolor='rgb(245,245,245)', \n",
        "                  title={'text': \"How Serious Bolivian Highland Women Believe Anemia is on Average\", 'x':0.5, 'xanchor': 'center', 'yanchor': 'top'})\n",
        "fig.update_traces(marker_color=colors)\n",
        "fig.show()"
      ],
      "execution_count": 0,
      "outputs": [
        {
          "output_type": "display_data",
          "data": {
            "text/html": [
              "<html>\n",
              "<head><meta charset=\"utf-8\" /></head>\n",
              "<body>\n",
              "    <div>\n",
              "            <script src=\"https://cdnjs.cloudflare.com/ajax/libs/mathjax/2.7.5/MathJax.js?config=TeX-AMS-MML_SVG\"></script><script type=\"text/javascript\">if (window.MathJax) {MathJax.Hub.Config({SVG: {font: \"STIX-Web\"}});}</script>\n",
              "                <script type=\"text/javascript\">window.PlotlyConfig = {MathJaxConfig: 'local'};</script>\n",
              "        <script src=\"https://cdn.plot.ly/plotly-latest.min.js\"></script>    \n",
              "            <div id=\"c0a07a2b-0561-45ec-a114-dc51d5dc3158\" class=\"plotly-graph-div\" style=\"height:600px; width:100%;\"></div>\n",
              "            <script type=\"text/javascript\">\n",
              "                \n",
              "                    window.PLOTLYENV=window.PLOTLYENV || {};\n",
              "                    \n",
              "                if (document.getElementById(\"c0a07a2b-0561-45ec-a114-dc51d5dc3158\")) {\n",
              "                    Plotly.newPlot(\n",
              "                        'c0a07a2b-0561-45ec-a114-dc51d5dc3158',\n",
              "                        [{\"alignmentgroup\": \"True\", \"hoverlabel\": {\"namelength\": 0}, \"hovertemplate\": \"=%{x}<br>How Serious is Anemia?=%{y}\", \"legendgroup\": \"\", \"marker\": {\"color\": [\"rgb(205,92,92)\", \"rgb(192,192,192)\"]}, \"name\": \"\", \"offsetgroup\": \"\", \"orientation\": \"v\", \"showlegend\": false, \"textposition\": \"auto\", \"type\": \"bar\", \"x\": [\"Anemic\", \"Not Anemic\"], \"xaxis\": \"x\", \"y\": [1.2985074626865671, 1.5072463768115942], \"yaxis\": \"y\"}],\n",
              "                        {\"barmode\": \"group\", \"height\": 600, \"legend\": {\"tracegroupgap\": 0}, \"margin\": {\"t\": 60}, \"plot_bgcolor\": \"rgb(245,245,245)\", \"showlegend\": false, \"template\": {\"data\": {\"bar\": [{\"error_x\": {\"color\": \"#2a3f5f\"}, \"error_y\": {\"color\": \"#2a3f5f\"}, \"marker\": {\"line\": {\"color\": \"#E5ECF6\", \"width\": 0.5}}, \"type\": \"bar\"}], \"barpolar\": [{\"marker\": {\"line\": {\"color\": \"#E5ECF6\", \"width\": 0.5}}, \"type\": \"barpolar\"}], \"carpet\": [{\"aaxis\": {\"endlinecolor\": \"#2a3f5f\", \"gridcolor\": \"white\", \"linecolor\": \"white\", \"minorgridcolor\": \"white\", \"startlinecolor\": \"#2a3f5f\"}, \"baxis\": {\"endlinecolor\": \"#2a3f5f\", \"gridcolor\": \"white\", \"linecolor\": \"white\", \"minorgridcolor\": \"white\", \"startlinecolor\": \"#2a3f5f\"}, \"type\": \"carpet\"}], \"choropleth\": [{\"colorbar\": {\"outlinewidth\": 0, \"ticks\": \"\"}, \"type\": \"choropleth\"}], \"contour\": [{\"colorbar\": {\"outlinewidth\": 0, \"ticks\": \"\"}, \"colorscale\": [[0.0, \"#0d0887\"], [0.1111111111111111, \"#46039f\"], [0.2222222222222222, \"#7201a8\"], [0.3333333333333333, \"#9c179e\"], [0.4444444444444444, \"#bd3786\"], [0.5555555555555556, \"#d8576b\"], [0.6666666666666666, \"#ed7953\"], [0.7777777777777778, \"#fb9f3a\"], [0.8888888888888888, \"#fdca26\"], [1.0, \"#f0f921\"]], \"type\": \"contour\"}], \"contourcarpet\": [{\"colorbar\": {\"outlinewidth\": 0, \"ticks\": \"\"}, \"type\": \"contourcarpet\"}], \"heatmap\": [{\"colorbar\": {\"outlinewidth\": 0, \"ticks\": \"\"}, \"colorscale\": [[0.0, \"#0d0887\"], [0.1111111111111111, \"#46039f\"], [0.2222222222222222, \"#7201a8\"], [0.3333333333333333, \"#9c179e\"], [0.4444444444444444, \"#bd3786\"], [0.5555555555555556, \"#d8576b\"], [0.6666666666666666, \"#ed7953\"], [0.7777777777777778, \"#fb9f3a\"], [0.8888888888888888, \"#fdca26\"], [1.0, \"#f0f921\"]], \"type\": \"heatmap\"}], \"heatmapgl\": [{\"colorbar\": {\"outlinewidth\": 0, \"ticks\": \"\"}, \"colorscale\": [[0.0, \"#0d0887\"], [0.1111111111111111, \"#46039f\"], [0.2222222222222222, \"#7201a8\"], [0.3333333333333333, \"#9c179e\"], [0.4444444444444444, \"#bd3786\"], [0.5555555555555556, \"#d8576b\"], [0.6666666666666666, \"#ed7953\"], [0.7777777777777778, \"#fb9f3a\"], [0.8888888888888888, \"#fdca26\"], [1.0, \"#f0f921\"]], \"type\": \"heatmapgl\"}], \"histogram\": [{\"marker\": {\"colorbar\": {\"outlinewidth\": 0, \"ticks\": \"\"}}, \"type\": \"histogram\"}], \"histogram2d\": [{\"colorbar\": {\"outlinewidth\": 0, \"ticks\": \"\"}, \"colorscale\": [[0.0, \"#0d0887\"], [0.1111111111111111, \"#46039f\"], [0.2222222222222222, \"#7201a8\"], [0.3333333333333333, \"#9c179e\"], [0.4444444444444444, \"#bd3786\"], [0.5555555555555556, \"#d8576b\"], [0.6666666666666666, \"#ed7953\"], [0.7777777777777778, \"#fb9f3a\"], [0.8888888888888888, \"#fdca26\"], [1.0, \"#f0f921\"]], \"type\": \"histogram2d\"}], \"histogram2dcontour\": [{\"colorbar\": {\"outlinewidth\": 0, \"ticks\": \"\"}, \"colorscale\": [[0.0, \"#0d0887\"], [0.1111111111111111, \"#46039f\"], [0.2222222222222222, \"#7201a8\"], [0.3333333333333333, \"#9c179e\"], [0.4444444444444444, \"#bd3786\"], [0.5555555555555556, \"#d8576b\"], [0.6666666666666666, \"#ed7953\"], [0.7777777777777778, \"#fb9f3a\"], [0.8888888888888888, \"#fdca26\"], [1.0, \"#f0f921\"]], \"type\": \"histogram2dcontour\"}], \"mesh3d\": [{\"colorbar\": {\"outlinewidth\": 0, \"ticks\": \"\"}, \"type\": \"mesh3d\"}], \"parcoords\": [{\"line\": {\"colorbar\": {\"outlinewidth\": 0, \"ticks\": \"\"}}, \"type\": \"parcoords\"}], \"scatter\": [{\"marker\": {\"colorbar\": {\"outlinewidth\": 0, \"ticks\": \"\"}}, \"type\": \"scatter\"}], \"scatter3d\": [{\"line\": {\"colorbar\": {\"outlinewidth\": 0, \"ticks\": \"\"}}, \"marker\": {\"colorbar\": {\"outlinewidth\": 0, \"ticks\": \"\"}}, \"type\": \"scatter3d\"}], \"scattercarpet\": [{\"marker\": {\"colorbar\": {\"outlinewidth\": 0, \"ticks\": \"\"}}, \"type\": \"scattercarpet\"}], \"scattergeo\": [{\"marker\": {\"colorbar\": {\"outlinewidth\": 0, \"ticks\": \"\"}}, \"type\": \"scattergeo\"}], \"scattergl\": [{\"marker\": {\"colorbar\": {\"outlinewidth\": 0, \"ticks\": \"\"}}, \"type\": \"scattergl\"}], \"scattermapbox\": [{\"marker\": {\"colorbar\": {\"outlinewidth\": 0, \"ticks\": \"\"}}, \"type\": \"scattermapbox\"}], \"scatterpolar\": [{\"marker\": {\"colorbar\": {\"outlinewidth\": 0, \"ticks\": \"\"}}, \"type\": \"scatterpolar\"}], \"scatterpolargl\": [{\"marker\": {\"colorbar\": {\"outlinewidth\": 0, \"ticks\": \"\"}}, \"type\": \"scatterpolargl\"}], \"scatterternary\": [{\"marker\": {\"colorbar\": {\"outlinewidth\": 0, \"ticks\": \"\"}}, \"type\": \"scatterternary\"}], \"surface\": [{\"colorbar\": {\"outlinewidth\": 0, \"ticks\": \"\"}, \"colorscale\": [[0.0, \"#0d0887\"], [0.1111111111111111, \"#46039f\"], [0.2222222222222222, \"#7201a8\"], [0.3333333333333333, \"#9c179e\"], [0.4444444444444444, \"#bd3786\"], [0.5555555555555556, \"#d8576b\"], [0.6666666666666666, \"#ed7953\"], [0.7777777777777778, \"#fb9f3a\"], [0.8888888888888888, \"#fdca26\"], [1.0, \"#f0f921\"]], \"type\": \"surface\"}], \"table\": [{\"cells\": {\"fill\": {\"color\": \"#EBF0F8\"}, \"line\": {\"color\": \"white\"}}, \"header\": {\"fill\": {\"color\": \"#C8D4E3\"}, \"line\": {\"color\": \"white\"}}, \"type\": \"table\"}]}, \"layout\": {\"annotationdefaults\": {\"arrowcolor\": \"#2a3f5f\", \"arrowhead\": 0, \"arrowwidth\": 1}, \"colorscale\": {\"diverging\": [[0, \"#8e0152\"], [0.1, \"#c51b7d\"], [0.2, \"#de77ae\"], [0.3, \"#f1b6da\"], [0.4, \"#fde0ef\"], [0.5, \"#f7f7f7\"], [0.6, \"#e6f5d0\"], [0.7, \"#b8e186\"], [0.8, \"#7fbc41\"], [0.9, \"#4d9221\"], [1, \"#276419\"]], \"sequential\": [[0.0, \"#0d0887\"], [0.1111111111111111, \"#46039f\"], [0.2222222222222222, \"#7201a8\"], [0.3333333333333333, \"#9c179e\"], [0.4444444444444444, \"#bd3786\"], [0.5555555555555556, \"#d8576b\"], [0.6666666666666666, \"#ed7953\"], [0.7777777777777778, \"#fb9f3a\"], [0.8888888888888888, \"#fdca26\"], [1.0, \"#f0f921\"]], \"sequentialminus\": [[0.0, \"#0d0887\"], [0.1111111111111111, \"#46039f\"], [0.2222222222222222, \"#7201a8\"], [0.3333333333333333, \"#9c179e\"], [0.4444444444444444, \"#bd3786\"], [0.5555555555555556, \"#d8576b\"], [0.6666666666666666, \"#ed7953\"], [0.7777777777777778, \"#fb9f3a\"], [0.8888888888888888, \"#fdca26\"], [1.0, \"#f0f921\"]]}, \"colorway\": [\"#636efa\", \"#EF553B\", \"#00cc96\", \"#ab63fa\", \"#FFA15A\", \"#19d3f3\", \"#FF6692\", \"#B6E880\", \"#FF97FF\", \"#FECB52\"], \"font\": {\"color\": \"#2a3f5f\"}, \"geo\": {\"bgcolor\": \"white\", \"lakecolor\": \"white\", \"landcolor\": \"#E5ECF6\", \"showlakes\": true, \"showland\": true, \"subunitcolor\": \"white\"}, \"hoverlabel\": {\"align\": \"left\"}, \"hovermode\": \"closest\", \"mapbox\": {\"style\": \"light\"}, \"paper_bgcolor\": \"white\", \"plot_bgcolor\": \"#E5ECF6\", \"polar\": {\"angularaxis\": {\"gridcolor\": \"white\", \"linecolor\": \"white\", \"ticks\": \"\"}, \"bgcolor\": \"#E5ECF6\", \"radialaxis\": {\"gridcolor\": \"white\", \"linecolor\": \"white\", \"ticks\": \"\"}}, \"scene\": {\"xaxis\": {\"backgroundcolor\": \"#E5ECF6\", \"gridcolor\": \"white\", \"gridwidth\": 2, \"linecolor\": \"white\", \"showbackground\": true, \"ticks\": \"\", \"zerolinecolor\": \"white\"}, \"yaxis\": {\"backgroundcolor\": \"#E5ECF6\", \"gridcolor\": \"white\", \"gridwidth\": 2, \"linecolor\": \"white\", \"showbackground\": true, \"ticks\": \"\", \"zerolinecolor\": \"white\"}, \"zaxis\": {\"backgroundcolor\": \"#E5ECF6\", \"gridcolor\": \"white\", \"gridwidth\": 2, \"linecolor\": \"white\", \"showbackground\": true, \"ticks\": \"\", \"zerolinecolor\": \"white\"}}, \"shapedefaults\": {\"line\": {\"color\": \"#2a3f5f\"}}, \"ternary\": {\"aaxis\": {\"gridcolor\": \"white\", \"linecolor\": \"white\", \"ticks\": \"\"}, \"baxis\": {\"gridcolor\": \"white\", \"linecolor\": \"white\", \"ticks\": \"\"}, \"bgcolor\": \"#E5ECF6\", \"caxis\": {\"gridcolor\": \"white\", \"linecolor\": \"white\", \"ticks\": \"\"}}, \"title\": {\"x\": 0.05}, \"xaxis\": {\"automargin\": true, \"gridcolor\": \"white\", \"linecolor\": \"white\", \"ticks\": \"\", \"zerolinecolor\": \"white\", \"zerolinewidth\": 2}, \"yaxis\": {\"automargin\": true, \"gridcolor\": \"white\", \"linecolor\": \"white\", \"ticks\": \"\", \"zerolinecolor\": \"white\", \"zerolinewidth\": 2}}}, \"title\": {\"text\": \"How Serious Bolivian Highland Women Believe Anemia is on Average\", \"x\": 0.5, \"xanchor\": \"center\", \"yanchor\": \"top\"}, \"xaxis\": {\"anchor\": \"y\", \"domain\": [0.0, 0.98], \"title\": {\"text\": \"\"}}, \"yaxis\": {\"anchor\": \"x\", \"domain\": [0.0, 1.0], \"title\": {\"text\": \"How Serious is Anemia?\"}}},\n",
              "                        {\"responsive\": true}\n",
              "                    ).then(function(){\n",
              "                            \n",
              "var gd = document.getElementById('c0a07a2b-0561-45ec-a114-dc51d5dc3158');\n",
              "var x = new MutationObserver(function (mutations, observer) {{\n",
              "        var display = window.getComputedStyle(gd).display;\n",
              "        if (!display || display === 'none') {{\n",
              "            console.log([gd, 'removed!']);\n",
              "            Plotly.purge(gd);\n",
              "            observer.disconnect();\n",
              "        }}\n",
              "}});\n",
              "\n",
              "// Listen for the removal of the full notebook cells\n",
              "var notebookContainer = gd.closest('#notebook-container');\n",
              "if (notebookContainer) {{\n",
              "    x.observe(notebookContainer, {childList: true});\n",
              "}}\n",
              "\n",
              "// Listen for the clearing of the current output cell\n",
              "var outputEl = gd.closest('.output');\n",
              "if (outputEl) {{\n",
              "    x.observe(outputEl, {childList: true});\n",
              "}}\n",
              "\n",
              "                        })\n",
              "                };\n",
              "                \n",
              "            </script>\n",
              "        </div>\n",
              "</body>\n",
              "</html>"
            ]
          },
          "metadata": {
            "tags": []
          }
        }
      ]
    },
    {
      "cell_type": "markdown",
      "metadata": {
        "id": "doOLUfLXEH64",
        "colab_type": "text"
      },
      "source": [
        "FIGURE 5:\n",
        "This figure shows, on average, how serious women in the dataset perceive anemia to be on a scale from 0 (Not Serious) to 1 (Very Serious). This graph suggests that women without anemia understand the condition to be more serious than women with anemia. This could suggest that women without anemia are more cautious and may take steps to prevent this illness, however these results are not conclusive.\n",
        "Image link:\n",
        "https://github.com/marismcguinness/DS3000FinalProject/blob/master/howSeriousIsAnemiaBarGraph.png"
      ]
    },
    {
      "cell_type": "code",
      "metadata": {
        "id": "d6m2SO8i4Dir",
        "colab_type": "code",
        "outputId": "ac1e6f76-c7ab-4154-b68a-5973d7e04219",
        "colab": {
          "base_uri": "https://localhost:8080/",
          "height": 617
        }
      },
      "source": [
        "# creates Figure 6 (shown below)\n",
        "def is_serious_string(var):\n",
        "  if var == 0:\n",
        "    return \"Don't Know\"\n",
        "  elif var == 1:\n",
        "    return \"Men\"\n",
        "  elif var == 2:\n",
        "    return \"Women\"\n",
        "  elif var == 3:\n",
        "    return \"Babies\"\n",
        "  elif var == 4:\n",
        "    return \"Everyone\"\n",
        "  elif var == 5:\n",
        "    return \"Men and Women\"\n",
        "  elif var == 6:\n",
        "    return \"Women and Babies\"\n",
        "df_anemic_copy2 = df_anemic.copy()\n",
        "df_anemic_copy2[\"Is anemic?\"] = df_anemic_copy2[\"Is anemic?\"].apply(is_anemic_string)\n",
        "df_anemic_copy2[\"For whom is anemia most serious?\"] = df_anemic_copy2[\"For whom is anemia most serious?\"].apply(is_serious_string)\n",
        "df_anemic_copy2 = df_anemic_copy2.groupby([\"Is anemic?\", \"For whom is anemia most serious?\"]).count()\n",
        "df_anemic_copy2[\"Count\"] = df_anemic_copy2[\"Rural v. Town\"]\n",
        "df_anemic_copy2 = df_anemic_copy2[[\"Count\"]]\n",
        "colors =['rgb(205,92,92)','rgb(192,192,192)']\n",
        "fig = px.bar(df_anemic_copy2.reset_index(), x=\"For whom is anemia most serious?\", y=\"Count\", color=\"Is anemic?\",  color_discrete_sequence=colors)\n",
        "fig.update_layout(showlegend=False, title={'text': \"Who Bolivian Highland Women Believe Anemia Affects Most\", 'x':0.5, 'xanchor': 'center', 'yanchor': 'top'},\n",
        "                  xaxis_title=\"\", yaxis_title=\"Number of Women\", plot_bgcolor='rgb(245,245,245)',\n",
        "                  legend_orientation=\"h\")\n",
        "fig.show()"
      ],
      "execution_count": 0,
      "outputs": [
        {
          "output_type": "display_data",
          "data": {
            "text/html": [
              "<html>\n",
              "<head><meta charset=\"utf-8\" /></head>\n",
              "<body>\n",
              "    <div>\n",
              "            <script src=\"https://cdnjs.cloudflare.com/ajax/libs/mathjax/2.7.5/MathJax.js?config=TeX-AMS-MML_SVG\"></script><script type=\"text/javascript\">if (window.MathJax) {MathJax.Hub.Config({SVG: {font: \"STIX-Web\"}});}</script>\n",
              "                <script type=\"text/javascript\">window.PlotlyConfig = {MathJaxConfig: 'local'};</script>\n",
              "        <script src=\"https://cdn.plot.ly/plotly-latest.min.js\"></script>    \n",
              "            <div id=\"670c83e0-6bdc-45b8-9af9-58b104396a86\" class=\"plotly-graph-div\" style=\"height:600px; width:100%;\"></div>\n",
              "            <script type=\"text/javascript\">\n",
              "                \n",
              "                    window.PLOTLYENV=window.PLOTLYENV || {};\n",
              "                    \n",
              "                if (document.getElementById(\"670c83e0-6bdc-45b8-9af9-58b104396a86\")) {\n",
              "                    Plotly.newPlot(\n",
              "                        '670c83e0-6bdc-45b8-9af9-58b104396a86',\n",
              "                        [{\"alignmentgroup\": \"True\", \"hoverlabel\": {\"namelength\": 0}, \"hovertemplate\": \"Is anemic?=Anemic<br>For whom is anemia most serious?=%{x}<br>Count=%{y}\", \"legendgroup\": \"Is anemic?=Anemic\", \"marker\": {\"color\": \"rgb(205,92,92)\"}, \"name\": \"Is anemic?=Anemic\", \"offsetgroup\": \"Is anemic?=Anemic\", \"orientation\": \"v\", \"showlegend\": true, \"textposition\": \"auto\", \"type\": \"bar\", \"x\": [\"Babies\", \"Everyone\", \"Men\", \"Men and Women\", \"Women\", \"Women and Babies\"], \"xaxis\": \"x\", \"y\": [16, 7, 6, 1, 36, 1], \"yaxis\": \"y\"}, {\"alignmentgroup\": \"True\", \"hoverlabel\": {\"namelength\": 0}, \"hovertemplate\": \"Is anemic?=Not Anemic<br>For whom is anemia most serious?=%{x}<br>Count=%{y}\", \"legendgroup\": \"Is anemic?=Not Anemic\", \"marker\": {\"color\": \"rgb(192,192,192)\"}, \"name\": \"Is anemic?=Not Anemic\", \"offsetgroup\": \"Is anemic?=Not Anemic\", \"orientation\": \"v\", \"showlegend\": true, \"textposition\": \"auto\", \"type\": \"bar\", \"x\": [\"Babies\", \"Don't Know\", \"Everyone\", \"Men\", \"Men and Women\", \"Women\"], \"xaxis\": \"x\", \"y\": [4, 2, 11, 3, 1, 48], \"yaxis\": \"y\"}],\n",
              "                        {\"barmode\": \"relative\", \"height\": 600, \"legend\": {\"orientation\": \"h\", \"tracegroupgap\": 0}, \"margin\": {\"t\": 60}, \"plot_bgcolor\": \"rgb(245,245,245)\", \"showlegend\": false, \"template\": {\"data\": {\"bar\": [{\"error_x\": {\"color\": \"#2a3f5f\"}, \"error_y\": {\"color\": \"#2a3f5f\"}, \"marker\": {\"line\": {\"color\": \"#E5ECF6\", \"width\": 0.5}}, \"type\": \"bar\"}], \"barpolar\": [{\"marker\": {\"line\": {\"color\": \"#E5ECF6\", \"width\": 0.5}}, \"type\": \"barpolar\"}], \"carpet\": [{\"aaxis\": {\"endlinecolor\": \"#2a3f5f\", \"gridcolor\": \"white\", \"linecolor\": \"white\", \"minorgridcolor\": \"white\", \"startlinecolor\": \"#2a3f5f\"}, \"baxis\": {\"endlinecolor\": \"#2a3f5f\", \"gridcolor\": \"white\", \"linecolor\": \"white\", \"minorgridcolor\": \"white\", \"startlinecolor\": \"#2a3f5f\"}, \"type\": \"carpet\"}], \"choropleth\": [{\"colorbar\": {\"outlinewidth\": 0, \"ticks\": \"\"}, \"type\": \"choropleth\"}], \"contour\": [{\"colorbar\": {\"outlinewidth\": 0, \"ticks\": \"\"}, \"colorscale\": [[0.0, \"#0d0887\"], [0.1111111111111111, \"#46039f\"], [0.2222222222222222, \"#7201a8\"], [0.3333333333333333, \"#9c179e\"], [0.4444444444444444, \"#bd3786\"], [0.5555555555555556, \"#d8576b\"], [0.6666666666666666, \"#ed7953\"], [0.7777777777777778, \"#fb9f3a\"], [0.8888888888888888, \"#fdca26\"], [1.0, \"#f0f921\"]], \"type\": \"contour\"}], \"contourcarpet\": [{\"colorbar\": {\"outlinewidth\": 0, \"ticks\": \"\"}, \"type\": \"contourcarpet\"}], \"heatmap\": [{\"colorbar\": {\"outlinewidth\": 0, \"ticks\": \"\"}, \"colorscale\": [[0.0, \"#0d0887\"], [0.1111111111111111, \"#46039f\"], [0.2222222222222222, \"#7201a8\"], [0.3333333333333333, \"#9c179e\"], [0.4444444444444444, \"#bd3786\"], [0.5555555555555556, \"#d8576b\"], [0.6666666666666666, \"#ed7953\"], [0.7777777777777778, \"#fb9f3a\"], [0.8888888888888888, \"#fdca26\"], [1.0, \"#f0f921\"]], \"type\": \"heatmap\"}], \"heatmapgl\": [{\"colorbar\": {\"outlinewidth\": 0, \"ticks\": \"\"}, \"colorscale\": [[0.0, \"#0d0887\"], [0.1111111111111111, \"#46039f\"], [0.2222222222222222, \"#7201a8\"], [0.3333333333333333, \"#9c179e\"], [0.4444444444444444, \"#bd3786\"], [0.5555555555555556, \"#d8576b\"], [0.6666666666666666, \"#ed7953\"], [0.7777777777777778, \"#fb9f3a\"], [0.8888888888888888, \"#fdca26\"], [1.0, \"#f0f921\"]], \"type\": \"heatmapgl\"}], \"histogram\": [{\"marker\": {\"colorbar\": {\"outlinewidth\": 0, \"ticks\": \"\"}}, \"type\": \"histogram\"}], \"histogram2d\": [{\"colorbar\": {\"outlinewidth\": 0, \"ticks\": \"\"}, \"colorscale\": [[0.0, \"#0d0887\"], [0.1111111111111111, \"#46039f\"], [0.2222222222222222, \"#7201a8\"], [0.3333333333333333, \"#9c179e\"], [0.4444444444444444, \"#bd3786\"], [0.5555555555555556, \"#d8576b\"], [0.6666666666666666, \"#ed7953\"], [0.7777777777777778, \"#fb9f3a\"], [0.8888888888888888, \"#fdca26\"], [1.0, \"#f0f921\"]], \"type\": \"histogram2d\"}], \"histogram2dcontour\": [{\"colorbar\": {\"outlinewidth\": 0, \"ticks\": \"\"}, \"colorscale\": [[0.0, \"#0d0887\"], [0.1111111111111111, \"#46039f\"], [0.2222222222222222, \"#7201a8\"], [0.3333333333333333, \"#9c179e\"], [0.4444444444444444, \"#bd3786\"], [0.5555555555555556, \"#d8576b\"], [0.6666666666666666, \"#ed7953\"], [0.7777777777777778, \"#fb9f3a\"], [0.8888888888888888, \"#fdca26\"], [1.0, \"#f0f921\"]], \"type\": \"histogram2dcontour\"}], \"mesh3d\": [{\"colorbar\": {\"outlinewidth\": 0, \"ticks\": \"\"}, \"type\": \"mesh3d\"}], \"parcoords\": [{\"line\": {\"colorbar\": {\"outlinewidth\": 0, \"ticks\": \"\"}}, \"type\": \"parcoords\"}], \"scatter\": [{\"marker\": {\"colorbar\": {\"outlinewidth\": 0, \"ticks\": \"\"}}, \"type\": \"scatter\"}], \"scatter3d\": [{\"line\": {\"colorbar\": {\"outlinewidth\": 0, \"ticks\": \"\"}}, \"marker\": {\"colorbar\": {\"outlinewidth\": 0, \"ticks\": \"\"}}, \"type\": \"scatter3d\"}], \"scattercarpet\": [{\"marker\": {\"colorbar\": {\"outlinewidth\": 0, \"ticks\": \"\"}}, \"type\": \"scattercarpet\"}], \"scattergeo\": [{\"marker\": {\"colorbar\": {\"outlinewidth\": 0, \"ticks\": \"\"}}, \"type\": \"scattergeo\"}], \"scattergl\": [{\"marker\": {\"colorbar\": {\"outlinewidth\": 0, \"ticks\": \"\"}}, \"type\": \"scattergl\"}], \"scattermapbox\": [{\"marker\": {\"colorbar\": {\"outlinewidth\": 0, \"ticks\": \"\"}}, \"type\": \"scattermapbox\"}], \"scatterpolar\": [{\"marker\": {\"colorbar\": {\"outlinewidth\": 0, \"ticks\": \"\"}}, \"type\": \"scatterpolar\"}], \"scatterpolargl\": [{\"marker\": {\"colorbar\": {\"outlinewidth\": 0, \"ticks\": \"\"}}, \"type\": \"scatterpolargl\"}], \"scatterternary\": [{\"marker\": {\"colorbar\": {\"outlinewidth\": 0, \"ticks\": \"\"}}, \"type\": \"scatterternary\"}], \"surface\": [{\"colorbar\": {\"outlinewidth\": 0, \"ticks\": \"\"}, \"colorscale\": [[0.0, \"#0d0887\"], [0.1111111111111111, \"#46039f\"], [0.2222222222222222, \"#7201a8\"], [0.3333333333333333, \"#9c179e\"], [0.4444444444444444, \"#bd3786\"], [0.5555555555555556, \"#d8576b\"], [0.6666666666666666, \"#ed7953\"], [0.7777777777777778, \"#fb9f3a\"], [0.8888888888888888, \"#fdca26\"], [1.0, \"#f0f921\"]], \"type\": \"surface\"}], \"table\": [{\"cells\": {\"fill\": {\"color\": \"#EBF0F8\"}, \"line\": {\"color\": \"white\"}}, \"header\": {\"fill\": {\"color\": \"#C8D4E3\"}, \"line\": {\"color\": \"white\"}}, \"type\": \"table\"}]}, \"layout\": {\"annotationdefaults\": {\"arrowcolor\": \"#2a3f5f\", \"arrowhead\": 0, \"arrowwidth\": 1}, \"colorscale\": {\"diverging\": [[0, \"#8e0152\"], [0.1, \"#c51b7d\"], [0.2, \"#de77ae\"], [0.3, \"#f1b6da\"], [0.4, \"#fde0ef\"], [0.5, \"#f7f7f7\"], [0.6, \"#e6f5d0\"], [0.7, \"#b8e186\"], [0.8, \"#7fbc41\"], [0.9, \"#4d9221\"], [1, \"#276419\"]], \"sequential\": [[0.0, \"#0d0887\"], [0.1111111111111111, \"#46039f\"], [0.2222222222222222, \"#7201a8\"], [0.3333333333333333, \"#9c179e\"], [0.4444444444444444, \"#bd3786\"], [0.5555555555555556, \"#d8576b\"], [0.6666666666666666, \"#ed7953\"], [0.7777777777777778, \"#fb9f3a\"], [0.8888888888888888, \"#fdca26\"], [1.0, \"#f0f921\"]], \"sequentialminus\": [[0.0, \"#0d0887\"], [0.1111111111111111, \"#46039f\"], [0.2222222222222222, \"#7201a8\"], [0.3333333333333333, \"#9c179e\"], [0.4444444444444444, \"#bd3786\"], [0.5555555555555556, \"#d8576b\"], [0.6666666666666666, \"#ed7953\"], [0.7777777777777778, \"#fb9f3a\"], [0.8888888888888888, \"#fdca26\"], [1.0, \"#f0f921\"]]}, \"colorway\": [\"#636efa\", \"#EF553B\", \"#00cc96\", \"#ab63fa\", \"#FFA15A\", \"#19d3f3\", \"#FF6692\", \"#B6E880\", \"#FF97FF\", \"#FECB52\"], \"font\": {\"color\": \"#2a3f5f\"}, \"geo\": {\"bgcolor\": \"white\", \"lakecolor\": \"white\", \"landcolor\": \"#E5ECF6\", \"showlakes\": true, \"showland\": true, \"subunitcolor\": \"white\"}, \"hoverlabel\": {\"align\": \"left\"}, \"hovermode\": \"closest\", \"mapbox\": {\"style\": \"light\"}, \"paper_bgcolor\": \"white\", \"plot_bgcolor\": \"#E5ECF6\", \"polar\": {\"angularaxis\": {\"gridcolor\": \"white\", \"linecolor\": \"white\", \"ticks\": \"\"}, \"bgcolor\": \"#E5ECF6\", \"radialaxis\": {\"gridcolor\": \"white\", \"linecolor\": \"white\", \"ticks\": \"\"}}, \"scene\": {\"xaxis\": {\"backgroundcolor\": \"#E5ECF6\", \"gridcolor\": \"white\", \"gridwidth\": 2, \"linecolor\": \"white\", \"showbackground\": true, \"ticks\": \"\", \"zerolinecolor\": \"white\"}, \"yaxis\": {\"backgroundcolor\": \"#E5ECF6\", \"gridcolor\": \"white\", \"gridwidth\": 2, \"linecolor\": \"white\", \"showbackground\": true, \"ticks\": \"\", \"zerolinecolor\": \"white\"}, \"zaxis\": {\"backgroundcolor\": \"#E5ECF6\", \"gridcolor\": \"white\", \"gridwidth\": 2, \"linecolor\": \"white\", \"showbackground\": true, \"ticks\": \"\", \"zerolinecolor\": \"white\"}}, \"shapedefaults\": {\"line\": {\"color\": \"#2a3f5f\"}}, \"ternary\": {\"aaxis\": {\"gridcolor\": \"white\", \"linecolor\": \"white\", \"ticks\": \"\"}, \"baxis\": {\"gridcolor\": \"white\", \"linecolor\": \"white\", \"ticks\": \"\"}, \"bgcolor\": \"#E5ECF6\", \"caxis\": {\"gridcolor\": \"white\", \"linecolor\": \"white\", \"ticks\": \"\"}}, \"title\": {\"x\": 0.05}, \"xaxis\": {\"automargin\": true, \"gridcolor\": \"white\", \"linecolor\": \"white\", \"ticks\": \"\", \"zerolinecolor\": \"white\", \"zerolinewidth\": 2}, \"yaxis\": {\"automargin\": true, \"gridcolor\": \"white\", \"linecolor\": \"white\", \"ticks\": \"\", \"zerolinecolor\": \"white\", \"zerolinewidth\": 2}}}, \"title\": {\"text\": \"Who Bolivian Highland Women Believe Anemia Affects Most\", \"x\": 0.5, \"xanchor\": \"center\", \"yanchor\": \"top\"}, \"xaxis\": {\"anchor\": \"y\", \"domain\": [0.0, 0.98], \"title\": {\"text\": \"\"}}, \"yaxis\": {\"anchor\": \"x\", \"domain\": [0.0, 1.0], \"title\": {\"text\": \"Number of Women\"}}},\n",
              "                        {\"responsive\": true}\n",
              "                    ).then(function(){\n",
              "                            \n",
              "var gd = document.getElementById('670c83e0-6bdc-45b8-9af9-58b104396a86');\n",
              "var x = new MutationObserver(function (mutations, observer) {{\n",
              "        var display = window.getComputedStyle(gd).display;\n",
              "        if (!display || display === 'none') {{\n",
              "            console.log([gd, 'removed!']);\n",
              "            Plotly.purge(gd);\n",
              "            observer.disconnect();\n",
              "        }}\n",
              "}});\n",
              "\n",
              "// Listen for the removal of the full notebook cells\n",
              "var notebookContainer = gd.closest('#notebook-container');\n",
              "if (notebookContainer) {{\n",
              "    x.observe(notebookContainer, {childList: true});\n",
              "}}\n",
              "\n",
              "// Listen for the clearing of the current output cell\n",
              "var outputEl = gd.closest('.output');\n",
              "if (outputEl) {{\n",
              "    x.observe(outputEl, {childList: true});\n",
              "}}\n",
              "\n",
              "                        })\n",
              "                };\n",
              "                \n",
              "            </script>\n",
              "        </div>\n",
              "</body>\n",
              "</html>"
            ]
          },
          "metadata": {
            "tags": []
          }
        }
      ]
    },
    {
      "cell_type": "markdown",
      "metadata": {
        "id": "dttXeYvlEPua",
        "colab_type": "text"
      },
      "source": [
        "FIGURE 6:\n",
        "This figure shows who women in the dataset to be most believe to be most affected by anemia. This graph shows that, overwhelmingly, the women in the dataset believe women to be most affected by anemia, followed by babies. According to the World Health Organization, women of child-bearing age are the most at risk for getting this condition.\n",
        "Image link: https://github.com/marismcguinness/DS3000FinalProject/blob/master/whoAnemiaAffectsMostBarChart.png\n"
      ]
    },
    {
      "cell_type": "markdown",
      "metadata": {
        "colab_type": "text",
        "id": "MAYMlRxmyxxt"
      },
      "source": [
        "### 3.3. Model Construction\n"
      ]
    },
    {
      "cell_type": "markdown",
      "metadata": {
        "id": "aZAWcZl9YTBP",
        "colab_type": "text"
      },
      "source": [
        "For the hypothesis test we used Chi-Square test because it is more useful in exploring the relationships between variables (location of women and if they got health care). In order to make the data more readable, answer numbers should be changed to actual answers."
      ]
    },
    {
      "cell_type": "code",
      "metadata": {
        "id": "EZtWzOqiTjDR",
        "colab_type": "code",
        "outputId": "46d798a5-f04f-4325-8dbd-8c46f5acc682",
        "colab": {
          "base_uri": "https://localhost:8080/",
          "height": 572
        }
      },
      "source": [
        "import matplotlib.pyplot as plt\n",
        "import numpy as np\n",
        "import math\n",
        "import seaborn as sns\n",
        "%matplotlib inline\n",
        "\n",
        "data = df_pills[['Rural v. Town', 'Sought pills from Health Center?']]\n",
        "def location(answer):\n",
        "  if answer == 1:\n",
        "    return 'Town'\n",
        "  else:\n",
        "    return 'Rural'\n",
        "\n",
        "data[\"Rural v. Town\"] = data[\"Rural v. Town\"].apply(location)\n",
        "\n",
        "data"
      ],
      "execution_count": 0,
      "outputs": [
        {
          "output_type": "stream",
          "text": [
            "/usr/local/lib/python3.6/dist-packages/ipykernel_launcher.py:14: SettingWithCopyWarning: \n",
            "A value is trying to be set on a copy of a slice from a DataFrame.\n",
            "Try using .loc[row_indexer,col_indexer] = value instead\n",
            "\n",
            "See the caveats in the documentation: http://pandas.pydata.org/pandas-docs/stable/user_guide/indexing.html#returning-a-view-versus-a-copy\n",
            "  \n"
          ],
          "name": "stderr"
        },
        {
          "output_type": "execute_result",
          "data": {
            "text/html": [
              "<div>\n",
              "<style scoped>\n",
              "    .dataframe tbody tr th:only-of-type {\n",
              "        vertical-align: middle;\n",
              "    }\n",
              "\n",
              "    .dataframe tbody tr th {\n",
              "        vertical-align: top;\n",
              "    }\n",
              "\n",
              "    .dataframe thead th {\n",
              "        text-align: right;\n",
              "    }\n",
              "</style>\n",
              "<table border=\"1\" class=\"dataframe\">\n",
              "  <thead>\n",
              "    <tr style=\"text-align: right;\">\n",
              "      <th></th>\n",
              "      <th>Rural v. Town</th>\n",
              "      <th>Sought pills from Health Center?</th>\n",
              "    </tr>\n",
              "    <tr>\n",
              "      <th>ID</th>\n",
              "      <th></th>\n",
              "      <th></th>\n",
              "    </tr>\n",
              "  </thead>\n",
              "  <tbody>\n",
              "    <tr>\n",
              "      <th>100443</th>\n",
              "      <td>Rural</td>\n",
              "      <td>0</td>\n",
              "    </tr>\n",
              "    <tr>\n",
              "      <th>101578</th>\n",
              "      <td>Rural</td>\n",
              "      <td>0</td>\n",
              "    </tr>\n",
              "    <tr>\n",
              "      <th>105161</th>\n",
              "      <td>Rural</td>\n",
              "      <td>1</td>\n",
              "    </tr>\n",
              "    <tr>\n",
              "      <th>105949</th>\n",
              "      <td>Town</td>\n",
              "      <td>0</td>\n",
              "    </tr>\n",
              "    <tr>\n",
              "      <th>106600</th>\n",
              "      <td>Town</td>\n",
              "      <td>1</td>\n",
              "    </tr>\n",
              "    <tr>\n",
              "      <th>...</th>\n",
              "      <td>...</td>\n",
              "      <td>...</td>\n",
              "    </tr>\n",
              "    <tr>\n",
              "      <th>194320</th>\n",
              "      <td>Town</td>\n",
              "      <td>1</td>\n",
              "    </tr>\n",
              "    <tr>\n",
              "      <th>194934</th>\n",
              "      <td>Town</td>\n",
              "      <td>1</td>\n",
              "    </tr>\n",
              "    <tr>\n",
              "      <th>195606</th>\n",
              "      <td>Rural</td>\n",
              "      <td>0</td>\n",
              "    </tr>\n",
              "    <tr>\n",
              "      <th>196723</th>\n",
              "      <td>Rural</td>\n",
              "      <td>0</td>\n",
              "    </tr>\n",
              "    <tr>\n",
              "      <th>198715</th>\n",
              "      <td>Rural</td>\n",
              "      <td>0</td>\n",
              "    </tr>\n",
              "  </tbody>\n",
              "</table>\n",
              "<p>78 rows × 2 columns</p>\n",
              "</div>"
            ],
            "text/plain": [
              "       Rural v. Town Sought pills from Health Center?\n",
              "ID                                                   \n",
              "100443         Rural                                0\n",
              "101578         Rural                                0\n",
              "105161         Rural                                1\n",
              "105949          Town                                0\n",
              "106600          Town                                1\n",
              "...              ...                              ...\n",
              "194320          Town                                1\n",
              "194934          Town                                1\n",
              "195606         Rural                                0\n",
              "196723         Rural                                0\n",
              "198715         Rural                                0\n",
              "\n",
              "[78 rows x 2 columns]"
            ]
          },
          "metadata": {
            "tags": []
          },
          "execution_count": 18
        }
      ]
    },
    {
      "cell_type": "markdown",
      "metadata": {
        "id": "dHQVQcCQYvDE",
        "colab_type": "text"
      },
      "source": [
        "Next Contingency Table is needed to view frequency count. "
      ]
    },
    {
      "cell_type": "code",
      "metadata": {
        "id": "xPYksHmwT0Lf",
        "colab_type": "code",
        "outputId": "b957537d-7a1f-48c2-8653-bc955dbecefa",
        "colab": {
          "base_uri": "https://localhost:8080/",
          "height": 173
        }
      },
      "source": [
        "data['Rural v. Town'].value_counts()\n",
        "data['Sought pills from Health Center?'].value_counts()\n",
        "contingency_table = pd.crosstab(\n",
        "    data['Rural v. Town'],\n",
        "    data['Sought pills from Health Center?'],\n",
        "    margins = True\n",
        ")\n",
        "contingency_table\n"
      ],
      "execution_count": 0,
      "outputs": [
        {
          "output_type": "execute_result",
          "data": {
            "text/html": [
              "<div>\n",
              "<style scoped>\n",
              "    .dataframe tbody tr th:only-of-type {\n",
              "        vertical-align: middle;\n",
              "    }\n",
              "\n",
              "    .dataframe tbody tr th {\n",
              "        vertical-align: top;\n",
              "    }\n",
              "\n",
              "    .dataframe thead th {\n",
              "        text-align: right;\n",
              "    }\n",
              "</style>\n",
              "<table border=\"1\" class=\"dataframe\">\n",
              "  <thead>\n",
              "    <tr style=\"text-align: right;\">\n",
              "      <th>Sought pills from Health Center?</th>\n",
              "      <th>0</th>\n",
              "      <th>1</th>\n",
              "      <th>2</th>\n",
              "      <th>All</th>\n",
              "    </tr>\n",
              "    <tr>\n",
              "      <th>Rural v. Town</th>\n",
              "      <th></th>\n",
              "      <th></th>\n",
              "      <th></th>\n",
              "      <th></th>\n",
              "    </tr>\n",
              "  </thead>\n",
              "  <tbody>\n",
              "    <tr>\n",
              "      <th>Rural</th>\n",
              "      <td>27</td>\n",
              "      <td>13</td>\n",
              "      <td>0</td>\n",
              "      <td>40</td>\n",
              "    </tr>\n",
              "    <tr>\n",
              "      <th>Town</th>\n",
              "      <td>15</td>\n",
              "      <td>22</td>\n",
              "      <td>1</td>\n",
              "      <td>38</td>\n",
              "    </tr>\n",
              "    <tr>\n",
              "      <th>All</th>\n",
              "      <td>42</td>\n",
              "      <td>35</td>\n",
              "      <td>1</td>\n",
              "      <td>78</td>\n",
              "    </tr>\n",
              "  </tbody>\n",
              "</table>\n",
              "</div>"
            ],
            "text/plain": [
              "Sought pills from Health Center?   0   1  2  All\n",
              "Rural v. Town                                   \n",
              "Rural                             27  13  0   40\n",
              "Town                              15  22  1   38\n",
              "All                               42  35  1   78"
            ]
          },
          "metadata": {
            "tags": []
          },
          "execution_count": 15
        }
      ]
    },
    {
      "cell_type": "markdown",
      "metadata": {
        "id": "qZCZXMN4ZFhN",
        "colab_type": "text"
      },
      "source": [
        "The visualization helps to understand Contingency Table. If there is no relationship between woman's location and her treatment, the ratio between Rural and Town women would be equal. As it is shown on chart, it is not equal thus our hypothesis might be accepted."
      ]
    },
    {
      "cell_type": "code",
      "metadata": {
        "id": "rXUtxuEyT_Sf",
        "colab_type": "code",
        "outputId": "5a7d8315-7415-48e1-f016-5f50044da402",
        "colab": {
          "base_uri": "https://localhost:8080/",
          "height": 355
        }
      },
      "source": [
        "rcount = contingency_table.iloc[0][0:2].values\n",
        "tcount = contingency_table.iloc[1][0:2].values\n",
        "\n",
        "#Plots the bar chart\n",
        "fig = plt.figure(figsize=(10, 5))\n",
        "sns.set(font_scale=1.8)\n",
        "categories = ['Did not receive aid', 'Received aid']\n",
        "p1 = plt.bar(categories, rcount, 0.55, color='#d62728')\n",
        "p2 = plt.bar(categories, tcount, 0.55, bottom=rcount)\n",
        "plt.legend((p2[0], p1[0]), ('Town', 'Rural'))\n",
        "plt.xlabel('Answers')\n",
        "plt.ylabel('Count')\n",
        "plt.show()"
      ],
      "execution_count": 0,
      "outputs": [
        {
          "output_type": "display_data",
          "data": {
            "image/png": "[encoded data removed]",
            "text/plain": [
              "<Figure size 720x360 with 1 Axes>"
            ]
          },
          "metadata": {
            "tags": []
          }
        }
      ]
    },
    {
      "cell_type": "markdown",
      "metadata": {
        "id": "q3FByyoqZhVn",
        "colab_type": "text"
      },
      "source": [
        "In order to check the hypothesis p-value is needed. Threfore, first Chi-Square statistic (X^2) needs to be calculated. It summarizes the difference between data and independence hypothesis.\n",
        "\n",
        "X^2=(observed−expected)^2/(expected)\n",
        "\n",
        "Observed are values that are found in Contingency Table, expected value are those when hypothesis is true. Thereofore, if hypothesis is 100% true the value of X^2 is 0.\n",
        "\n",
        "Also, we need to calculate the Degree of Freedom using the values from table. \n",
        "DoF=(Number of rows−1)∗(Number of columns−1)\n"
      ]
    },
    {
      "cell_type": "code",
      "metadata": {
        "id": "57Hl-CS5T_90",
        "colab_type": "code",
        "outputId": "7fff6287-55cd-42dd-a5a9-19a56b680b43",
        "colab": {
          "base_uri": "https://localhost:8080/",
          "height": 68
        }
      },
      "source": [
        "f_obs = np.append(contingency_table.iloc[0][0:3].values, \n",
        "                  contingency_table.iloc[1][0:3].values)\n",
        "row_sums = contingency_table.iloc[0:2,3].values\n",
        "col_sums = contingency_table.iloc[2,0:3].values\n",
        "total = contingency_table.loc['All', 'All']\n",
        "\n",
        "f_expected = []\n",
        "for j in range(2):\n",
        "    for i in col_sums:\n",
        "        f_expected.append(i*row_sums[j]/total)\n",
        "chi_squared_statistic = ((f_obs - f_expected)**2/f_expected).sum()\n",
        "print('Chi-squared Statistic: {}'.format(chi_squared_statistic))\n",
        "dof = (len(row_sums)-1)*(len(col_sums)-1)\n",
        "print(\"Degrees of Freedom: {}\".format(dof))\n",
        "f_obs = np.array([contingency_table.iloc[0][0:3].values,\n",
        "                  contingency_table.iloc[1][0:3].values])\n",
        "from scipy import stats\n",
        "stats.chi2_contingency(f_obs)[0:3]"
      ],
      "execution_count": 0,
      "outputs": [
        {
          "output_type": "stream",
          "text": [
            "Chi-squared Statistic: 6.695977443609021\n",
            "Degrees of Freedom: 2\n"
          ],
          "name": "stdout"
        },
        {
          "output_type": "execute_result",
          "data": {
            "text/plain": [
              "(6.695977443609021, 0.03515498950716576, 2)"
            ]
          },
          "metadata": {
            "tags": []
          },
          "execution_count": 17
        }
      ]
    },
    {
      "cell_type": "markdown",
      "metadata": {
        "id": "RpvKTNmMUW4k",
        "colab_type": "text"
      },
      "source": [
        "The p-value (0,035) is smaller than 0,05 that means there is a relationship between variables. Thus the null hypothesis is accepted.\n",
        "Using the Degree of Freedom and Chi-squared distribution table (https://www.itl.nist.gov/div898/handbook/eda/section3/eda3674.htm) we can see that our X^2 is not very different from what it should be (5,991).\n",
        "\n",
        "In conclusion, the location of woman will affect on her health care. Rural women are less likely to receive aid comparing to women from town."
      ]
    },
    {
      "cell_type": "markdown",
      "metadata": {
        "id": "z7r6c-bU2bzl",
        "colab_type": "text"
      },
      "source": [
        "Four classification machine learning algorithms were compared before moving forward with training for both predictive models. A dictionary containing classifier objects for k-Nearest Neighbor, Support Vector Machine, Gaussian Naive Bayes, and Decision Tree algorithms was created below."
      ]
    },
    {
      "cell_type": "code",
      "metadata": {
        "id": "gWukuUOYy2U3",
        "colab_type": "code",
        "colab": {}
      },
      "source": [
        "from sklearn.neighbors import KNeighborsClassifier\n",
        "from sklearn.svm import SVC\n",
        "from sklearn.naive_bayes import GaussianNB\n",
        "from sklearn.tree import DecisionTreeClassifier\n",
        "\n",
        "# creates a dictionary of four classifier methods\n",
        "estimators = {\"k-Nearest Neighbor\":KNeighborsClassifier(), \n",
        "              \"Support Vector Machine\":SVC(gamma=\"scale\"),\n",
        "              \"Gaussian Naive Bayes\":GaussianNB(), \n",
        "              \"Decision Tree\":DecisionTreeClassifier()}"
      ],
      "execution_count": 0,
      "outputs": []
    },
    {
      "cell_type": "markdown",
      "metadata": {
        "id": "7hzjirmR3AE_",
        "colab_type": "text"
      },
      "source": [
        "The four algorithms in the `estimators` dictionary were then used within the `classifiers_cross_validation` method below. Here, mean accuracies and standard deviations for each model were generated. For both predictive models, less than 10 k-folds were used due to limited available data: n-splits of 5 for anemic prediction and 8 for pills prediction were used as they resulted in the highest mean accuracies."
      ]
    },
    {
      "cell_type": "code",
      "metadata": {
        "id": "BxPN4DF1zCha",
        "colab_type": "code",
        "outputId": "5c58dae2-fb6b-4ac8-ec9d-51d56b3870f2",
        "colab": {
          "base_uri": "https://localhost:8080/",
          "height": 527
        }
      },
      "source": [
        "from sklearn.model_selection import KFold\n",
        "from sklearn.model_selection import cross_val_score\n",
        "\n",
        "# fits these four classifiers to the data using cross-validation\n",
        "# given specified features, target, and number of splits\n",
        "def classifiers_cross_validation(feat, targ, splits):\n",
        "    for classifier, method in estimators.items():\n",
        "        kfold = KFold(n_splits=splits, random_state=3000, shuffle=True)\n",
        "    \n",
        "        scores = cross_val_score(estimator=method, X=feat, \n",
        "                                 y=targ, cv=kfold)\n",
        "    \n",
        "        print(classifier + \":\\n\\t\", \n",
        "              f'mean accuracy={scores.mean():.2%}, ' + \n",
        "              f'standard deviation={scores.std():.2%}', \"\\n\")\n",
        "\n",
        "# uses 5-fold cross-validation on the anemic prediction DataFrame\n",
        "# optimal splits value determined manually\n",
        "print(\"------------------------\\n\" +\n",
        "      \"Anemia Predictive Model\\n\" +\n",
        "      \"------------------------\")\n",
        "classifiers_cross_validation(features, target, 5)\n",
        "\n",
        "# uses 8-fold cross-validation on the pills prediction DataFrame\n",
        "# optimal splits value determined manually\n",
        "print(\"------------------------\\n\" +\n",
        "      \"Pills Predictive Model\\n\" +\n",
        "      \"------------------------\")\n",
        "classifiers_cross_validation(features_pills, target_pills, 8)"
      ],
      "execution_count": 0,
      "outputs": [
        {
          "output_type": "stream",
          "text": [
            "------------------------\n",
            "Anemia Predictive Model\n",
            "------------------------\n",
            "k-Nearest Neighbor:\n",
            "\t mean accuracy=44.21%, standard deviation=7.41% \n",
            "\n",
            "Support Vector Machine:\n",
            "\t mean accuracy=46.35%, standard deviation=4.01% \n",
            "\n",
            "Gaussian Naive Bayes:\n",
            "\t mean accuracy=55.95%, standard deviation=5.98% \n",
            "\n",
            "Decision Tree:\n",
            "\t mean accuracy=49.89%, standard deviation=10.46% \n",
            "\n",
            "------------------------\n",
            "Pills Predictive Model\n",
            "------------------------\n",
            "k-Nearest Neighbor:\n",
            "\t mean accuracy=57.92%, standard deviation=10.92% \n",
            "\n",
            "Support Vector Machine:\n",
            "\t mean accuracy=54.03%, standard deviation=7.74% \n",
            "\n",
            "Gaussian Naive Bayes:\n",
            "\t mean accuracy=57.92%, standard deviation=13.23% \n",
            "\n",
            "Decision Tree:\n",
            "\t mean accuracy=58.89%, standard deviation=7.72% \n",
            "\n"
          ],
          "name": "stdout"
        }
      ]
    },
    {
      "cell_type": "markdown",
      "metadata": {
        "id": "lVY8lxmwVfNi",
        "colab_type": "text"
      },
      "source": [
        "Mean accuracies and standard deviations were used to evaluate model performance for both predictive sets. Upon one run of the model comparison code, the following results were achieved for anemia predictions:\n",
        "\n",
        "*   k-Nearest Neighbors: 44.21% +/- 7.41%\n",
        "*   Support Vector Machine: 46.35% +/- 4.01%\n",
        "*   Gaussian Naive Bayes: 55.95% +/- 5.98%\n",
        "*   Decision Tree: 50.66% +/- 8.64%\n",
        "\n",
        "At first glance, these values seemed to indicate that Gaussian Naive Bayes returned the best results with the highest mean accuracy of 55.95%. This model, however, makes the naive assumption that all features are independent from one another. Making this assumption for this dataset would not be acceptable, as sociocultural features like education and living area tend to be related to one another. Thus, the Decision Tree was chosen as the optimal algorithm for anemia predictions with the next highest mean accuracy of 50.66%.\n",
        "\n",
        "The following results were achieved for the pills predictions:\n",
        "\n",
        "*   k-Nearest Neighbors: 57.92% +/- 10.92%\n",
        "*   Support Vector Machine: 54.03% +/- 7.74%\n",
        "*   Gaussian Naive Bayes: 57.92% +/- 13.23%\n",
        "*   Decision Tree: 60.00% +/- 7.60%\n",
        "\n",
        "In this case, the Decision Tree algorithm resulted in the the highest mean accuracy and lowest standard deviation. For these reasons,  Decision Tree classification was used on both the anemia and pills predictive models.\n",
        "\n",
        "\n",
        "\n"
      ]
    },
    {
      "cell_type": "markdown",
      "metadata": {
        "id": "ymUkDh4x3Cri",
        "colab_type": "text"
      },
      "source": [
        "Although cross-validation was used to compare between machine learning algorithms, a percentage-split approach was used for further model training. The code below splits both the anemic and pills prediction datasets into training and testing sets."
      ]
    },
    {
      "cell_type": "code",
      "metadata": {
        "id": "RRFBMMFCy4T5",
        "colab_type": "code",
        "colab": {}
      },
      "source": [
        "# split anemic prediction data for training and testing\n",
        "from sklearn.model_selection import train_test_split\n",
        "X_train, X_test, y_train, y_test = train_test_split(features, \n",
        "                                                    target, \n",
        "                                                    random_state=3000)\n",
        "\n",
        "# split pills prediction data for training and testng\n",
        "X_train_pills, X_test_pills, y_train_pills, y_test_pills = train_test_split(features_pills, \n",
        "                                                                            target_pills, \n",
        "                                                                            random_state=3000)"
      ],
      "execution_count": 0,
      "outputs": []
    },
    {
      "cell_type": "markdown",
      "metadata": {
        "id": "i1up3j_J9b1d",
        "colab_type": "text"
      },
      "source": [
        "The features were scaled for both prediction sets so that all features would be weighted equally. This was especially important because features ranged from 0-1 in the case of \"Rural v. town\" or 12-17 in the case of hemoglobin level."
      ]
    },
    {
      "cell_type": "code",
      "metadata": {
        "id": "UhD0z4Gty-2r",
        "colab_type": "code",
        "colab": {}
      },
      "source": [
        "# NORMALIZE VARIABLES\n",
        "from sklearn.preprocessing import MinMaxScaler\n",
        "\n",
        "# scale for percentage-split model training on the anemia prediction DataFrame\n",
        "scaler = MinMaxScaler()\n",
        "scaler.fit(X_train)\n",
        "X_train_scaled = scaler.transform(X_train) \n",
        "X_test_scaled = scaler.transform(X_test)\n",
        "\n",
        "# scale for percentage-split model training on the pills prediction DataFrame\n",
        "scaler_pills = MinMaxScaler()\n",
        "scaler_pills.fit(X_train_pills)\n",
        "X_train_scaled_pills = scaler_pills.transform(X_train_pills) \n",
        "X_test_scaled_pills = scaler_pills.transform(X_test_pills)"
      ],
      "execution_count": 0,
      "outputs": []
    },
    {
      "cell_type": "markdown",
      "metadata": {
        "id": "PwFXk00m_Lgk",
        "colab_type": "text"
      },
      "source": [
        "Recursive feature selection was coupled with a decision tree classifier to idenitify the most important features for each predictive model. Decision tree classification was used with four features on the anemia prediction set and two features on the pills prediction set. These optimal numbers of features were determined by manually adjusting the input and noting the highest accuracy results."
      ]
    },
    {
      "cell_type": "code",
      "metadata": {
        "id": "aRhqf_879GaG",
        "colab_type": "code",
        "outputId": "d66412f7-ba53-47d3-83c7-29057359d861",
        "colab": {
          "base_uri": "https://localhost:8080/",
          "height": 391
        }
      },
      "source": [
        "from sklearn.feature_selection import RFE\n",
        "import numpy as np\n",
        "\n",
        "# performs feature selection and classification given specified training\n",
        "# and testing sets, features, and n features to select\n",
        "def RFE_feature_selection(X_train, X_test, y_train, y_test, features, n):\n",
        "  select = RFE(DecisionTreeClassifier(random_state = 3000), \n",
        "               n_features_to_select = n)\n",
        "  select.fit(X_train, y_train)\n",
        "\n",
        "  X_train_selected = select.transform(X_train)\n",
        "  X_test_selected = select.transform(X_test)\n",
        "\n",
        "  model = DecisionTreeClassifier().fit(X=X_train_selected, y=y_train)\n",
        "\n",
        "  feature_names = np.array(features.columns)\n",
        "  feature_names_selected = feature_names[select.get_support()]\n",
        "  print(\"Selected features after RFE:\")\n",
        "  print(\"\\t\" + \"\\n\\t\".join(feature_names_selected))\n",
        "   \n",
        "  predicted = model.predict(X=X_test_selected)\n",
        "  expected = y_test\n",
        "        \n",
        "  accuracy = model.score(X_test_selected, y_test)\n",
        "\n",
        "  print(\"\\nDecision tree classification performance with selected features:\")\n",
        "  print(\"\\tPrediction accuracy on the test data:\", f\"{accuracy:.2%}\\n\")\n",
        "    \n",
        "  return X_train_selected, X_test_selected\n",
        "\n",
        "# feature selection and classification on anemic prediction dataset\n",
        "# optimal n features determined manually\n",
        "print(\"------------------------\\n\" +\n",
        "      \"Anemia Predictive Model\\n\" +\n",
        "      \"------------------------\")\n",
        "X_train_selected, X_test_selected = RFE_feature_selection(X_train_scaled, \n",
        "                                                          X_test_scaled,\n",
        "                                                          y_train,\n",
        "                                                          y_test,\n",
        "                                                          features,\n",
        "                                                          4)\n",
        "\n",
        "# feature selection and classification on pills prediction dataset\n",
        "# optimal n features determined manually\n",
        "print(\"------------------------\\n\" +\n",
        "      \"Pills Predictive Model\\n\" +\n",
        "      \"------------------------\")\n",
        "X_train_selected_pills, X_test_selected_pills = RFE_feature_selection(X_train_scaled_pills, \n",
        "                                                                      X_test_scaled_pills,\n",
        "                                                                      y_train_pills,\n",
        "                                                                      y_test_pills,\n",
        "                                                                      features_pills,\n",
        "                                                                      2)"
      ],
      "execution_count": 0,
      "outputs": [
        {
          "output_type": "stream",
          "text": [
            "------------------------\n",
            "Anemia Predictive Model\n",
            "------------------------\n",
            "Selected features after RFE:\n",
            "\tHow serious is anemia?\n",
            "\tFor whom is anemia most serious?\n",
            "\tAge\n",
            "\tEducation\n",
            "\n",
            "Decision tree classification performance with selected features:\n",
            "\tPrediction accuracy on the test data: 58.82%\n",
            "\n",
            "------------------------\n",
            "Pills Predictive Model\n",
            "------------------------\n",
            "Selected features after RFE:\n",
            "\tHb prompting supplement recommendation\n",
            "\tWhat is anemia? (answer 1)\n",
            "\n",
            "Decision tree classification performance with selected features:\n",
            "\tPrediction accuracy on the test data: 65.00%\n",
            "\n"
          ],
          "name": "stdout"
        }
      ]
    },
    {
      "cell_type": "markdown",
      "metadata": {
        "colab_type": "text",
        "id": "TwrlCHF0yxg4"
      },
      "source": [
        "### 3.4. Model Evaluation\n",
        "\n",
        "Predictive model performance was evaluated using prediction accuracy from the percentage-split training approach. After selecting four features for the anemia predictive model, the accuracy rose from 50.66% to 58.82%. In the pills predictive model with two features selected, the accuracy rose from 60.00% to 65.00%. These results show that recursive feature selection paired with Decision Tree classification successfully improved the accuracies of both models. It should be noted that final accuracy values are somewhat low, and this is attributed to the fact that limited data was available for predictive modeling.\n",
        "\n",
        "The features selected in the previous section show that certain sociocultural factors aid in the prediction of anemia status. Education and age were identified as key attributes for predicting if a subject was anemic. This was then followed by the individual's perception of anemia, judged by how they answered the questions \"For whom is anemia most serious?\" and \"How serious is anemia?\" Based on these factors, anemia treatment policies and aid should focus on educating people in these regions on the severity of this condition. In section 3.2 *Data Exploration*, Figures 3-6 explain the relavance of these selected factors."
      ]
    },
    {
      "cell_type": "markdown",
      "metadata": {
        "id": "hYABIPJhoOLT",
        "colab_type": "text"
      },
      "source": [
        "Similarly, certain features aid in predicting if a subject will even attempt to buy anemia treatment pills at a health center after being prescribed. Two features, Hb prompting supplement recommendation and the answer to \"What is anemia?\" were determined to have the most impact on predictions. Based on this, the actual severity of low hemoglobin can be used to predict if the individual would seek treatment. Additionally, if a subject was not educated on what anemia is, she was unlikely to seek the recommended treatment. This further supports the point that proper anemia awareness should be ensured before attempting to enforce treatment. "
      ]
    },
    {
      "cell_type": "markdown",
      "metadata": {
        "colab_type": "text",
        "id": "zNF2enpgytaD"
      },
      "source": [
        "### 3.5. Model Optimization\n"
      ]
    },
    {
      "cell_type": "markdown",
      "metadata": {
        "id": "Nj2yUXjm9BOl",
        "colab_type": "text"
      },
      "source": [
        "In an attempt to improve the prediction accuracies on test sets for both models, grid search hyperparameter tuning was performed. This was done in order to avoid over- or underfitting."
      ]
    },
    {
      "cell_type": "code",
      "metadata": {
        "id": "gdHLR7IlEMzy",
        "colab_type": "code",
        "outputId": "b83ce964-263c-44dd-ac88-1686400976a0",
        "colab": {
          "base_uri": "https://localhost:8080/",
          "height": 326
        }
      },
      "source": [
        "from sklearn.model_selection import GridSearchCV\n",
        "\n",
        "param_grid = {'min_samples_split' : range(2, 50, 2),\n",
        "              'max_depth': range(1, 20, 1)}\n",
        "\n",
        "# performs grid search for decision tree classifier\n",
        "def grid_search_DT(X_train_selected, X_test_selected, y_train, y_test):\n",
        "    grid_search = GridSearchCV(DecisionTreeClassifier(), param_grid, cv=5)\n",
        "    grid_search.fit(X=X_train_selected, y=y_train)\n",
        "    \n",
        "    print(\"Best parameters: \", grid_search.best_params_)\n",
        "    print(\"Best cross-validation score: \", grid_search.best_score_)\n",
        "\n",
        "    train_score = grid_search.score(X_train_selected, y_train)\n",
        "    test_score = grid_search.score(X_test_selected, y_test)\n",
        "\n",
        "    return train_score, test_score\n",
        "\n",
        "# tuning on anemia prediction dataset\n",
        "print(\"------------------------\\n\" +\n",
        "      \"Anemia Predictive Model\\n\" +\n",
        "      \"------------------------\")\n",
        "train_score, test_score = grid_search_DT(X_train_selected, X_test_selected, \n",
        "                                         y_train, y_test)\n",
        "\n",
        "# tuning on pills prediction dataset\n",
        "print(\"\\n------------------------\\n\" +\n",
        "      \"Pills Predictive Model\\n\" +\n",
        "      \"------------------------\")\n",
        "train_score_pills, test_score_pills = grid_search_DT(X_train_selected_pills, \n",
        "                                                     X_test_selected_pills, \n",
        "                                                     y_train_pills, \n",
        "                                                     y_test_pills)"
      ],
      "execution_count": 0,
      "outputs": [
        {
          "output_type": "stream",
          "text": [
            "------------------------\n",
            "Anemia Predictive Model\n",
            "------------------------\n"
          ],
          "name": "stdout"
        },
        {
          "output_type": "stream",
          "text": [
            "/usr/local/lib/python3.6/dist-packages/sklearn/model_selection/_search.py:814: DeprecationWarning: The default of the `iid` parameter will change from True to False in version 0.22 and will be removed in 0.24. This will change numeric results when test-set sizes are unequal.\n",
            "  DeprecationWarning)\n",
            "/usr/local/lib/python3.6/dist-packages/sklearn/model_selection/_split.py:657: Warning: The least populated class in y has only 1 members, which is too few. The minimum number of members in any class cannot be less than n_splits=5.\n",
            "  % (min_groups, self.n_splits)), Warning)\n"
          ],
          "name": "stderr"
        },
        {
          "output_type": "stream",
          "text": [
            "Best parameters:  {'max_depth': 2, 'min_samples_split': 32}\n",
            "Best cross-validation score:  0.5882352941176471\n",
            "\n",
            "------------------------\n",
            "Pills Predictive Model\n",
            "------------------------\n",
            "Best parameters:  {'max_depth': 7, 'min_samples_split': 4}\n",
            "Best cross-validation score:  0.6379310344827587\n"
          ],
          "name": "stdout"
        },
        {
          "output_type": "stream",
          "text": [
            "/usr/local/lib/python3.6/dist-packages/sklearn/model_selection/_search.py:814: DeprecationWarning: The default of the `iid` parameter will change from True to False in version 0.22 and will be removed in 0.24. This will change numeric results when test-set sizes are unequal.\n",
            "  DeprecationWarning)\n"
          ],
          "name": "stderr"
        }
      ]
    },
    {
      "cell_type": "markdown",
      "metadata": {
        "id": "V2xOTc3LkHT8",
        "colab_type": "text"
      },
      "source": [
        "### 3.6. Model Testing\n",
        "\n",
        "The tuned algorithms for both predictive models were used on the testing sets in the code portion above. The output is presented below."
      ]
    },
    {
      "cell_type": "code",
      "metadata": {
        "id": "RJwZoCUms5Mo",
        "colab_type": "code",
        "outputId": "c9ddf9e6-5b5e-4337-febc-21e8c9c38056",
        "colab": {
          "base_uri": "https://localhost:8080/",
          "height": 204
        }
      },
      "source": [
        "# tuning on anemia prediction dataset\n",
        "print(\"------------------------\\n\" +\n",
        "      \"Anemia Predictive Model\\n\" +\n",
        "      \"------------------------\")\n",
        "print(\"Training set score with best parameters: \", \n",
        "          train_score)\n",
        "print(\"Test set score with best parameters: \", \n",
        "          test_score)\n",
        "\n",
        "# tuning on pills prediction dataset\n",
        "print(\"\\n------------------------\\n\" +\n",
        "      \"Pills Predictive Model\\n\" +\n",
        "      \"------------------------\")\n",
        "print(\"Training set score with best parameters: \", \n",
        "          train_score_pills)\n",
        "print(\"Test set score with best parameters: \", \n",
        "          test_score_pills)"
      ],
      "execution_count": 0,
      "outputs": [
        {
          "output_type": "stream",
          "text": [
            "------------------------\n",
            "Anemia Predictive Model\n",
            "------------------------\n",
            "Training set score with best parameters:  0.6666666666666666\n",
            "Test set score with best parameters:  0.5588235294117647\n",
            "\n",
            "------------------------\n",
            "Pills Predictive Model\n",
            "------------------------\n",
            "Training set score with best parameters:  0.7413793103448276\n",
            "Test set score with best parameters:  0.55\n"
          ],
          "name": "stdout"
        }
      ]
    },
    {
      "cell_type": "markdown",
      "metadata": {
        "id": "EOuiFOtcuH4z",
        "colab_type": "text"
      },
      "source": [
        "Comparing the training set scores to the testing set scores in each case show that the models tend to overfit. For anemia prediction, the training set scored 66.67% accuracy with a testing set accuracy of 55.88%. The pills prediction showed a larger differnce with a training set score of 74.13% and testing set score of 55.00%. Since this second predictive model was performed on a smaller subset of the data, this supports the point that models have a stronger tendency to overfit when limited data is available, even after hyperparameter tuning."
      ]
    },
    {
      "cell_type": "markdown",
      "metadata": {
        "id": "8KI9qrJGkHT9",
        "colab_type": "text"
      },
      "source": [
        "<a id=\"4\"></a>\n",
        "<hr style=\"height:2px; border:none; color:black; background-color:black;\">"
      ]
    },
    {
      "cell_type": "markdown",
      "metadata": {
        "id": "Js0CeE87kHT-",
        "colab_type": "text"
      },
      "source": [
        "\n",
        "## 4. DISCUSSION\n",
        "Several steps were taken to analyze the anemia dataset and make informed predictions from the analysis. After performing basic data cleaning to remove null values, an initial data analysis was performed. Grouping the data allowed for the performance of hypothesis tests and creation of visualizations. In order to create two predictive models—one for predicting anemia and the other for predicting if the subject will seek treatment—several supervised machine learning classification algorithms were compared. After identifying decision tree classification as the highest-performing algorithm for both models, further model optimization was performed. This included training and testing, recursive feature selection, and grid search for hyperparameter tuning. Using the combined results from descriptive statistics, data visualization, and machine learning, several conclusions were made about which anemia treatment policies could be most effective.\n",
        "\n",
        "The Chi-Square Test is used to test hypothesis because it determines if variables are related to each other. In this case, p value (0,035) is smaller than 0,05 that means that there is a relationship between the location of participant and her treatment. Thus our null hypothesis is supported. Also, we have calculated Chi-Square statistic value (X^2) of 6,69 that summarizes the difference between data and independence hypothesis. The value is not large therefore we may assume that hypothesis is accepted.\n",
        "\n",
        "In constructing the machine learning classification models, four algorithms were compared using cross-validation: k-Nearest Neighbors, Support Vector Machine, Gaussian Naïve Bayes, and Decision Tree. For the anemia predictive model, Gaussian Naïve Bayes appeared to perform the best with a high mean accuracy. However, the naïve assumption that all features were independent would not work with this dataset—several sociocultural factors were likely related. Thus, the Decision Tree classifier was chosen as the next highest-performing algorithm. In the case of the pills-sought predictive model, the Decision Tree classifier had the highest mean accuracy and was chosen for the model’s algorithm.\n",
        "\n",
        "Additional conclusions could be made about the dataset after performing feature selection and hyperparameter tuning. Throughout all model optimization, prediction accuracies ranging from 50% to 70% were achieved, indicating that the available features provide some level of insightful predictions, but more data is required to develop robust predictive models. In predicting anemia, four key features were selected: years of education, age, answer to “For whom is anemia most serious?” and “How serious is anemia?” For predicting if the subject would seek pills, two features were selected: hemoglobin level and the answer to \"What is anemia?\" In both models, these features indicate that individual perception on the severity of anemia aids in predicting if an individual will have anemia and if they will attempt to seek a prescribed treatment. Based on this, it is recommended that policies on anemia treatment should first focus on educating at-risk women on anemia before attempting to enforce a treatment that ultimately will not be sought.\n",
        "\n",
        "Several improvements could be made in future works related to the topic of anemia prediction in at-risk regions. A key improvement would be to obtain more data as this would potentially improve the prediction accuracy of the models and allow additional sociocultural features to be explored. It would also be useful to perform an analysis on the hemoglobin level of an individual at the beginning and end of the study to determine effectiveness of the prescribed treatment. This lack of available data has proven to be an issue in other studies, especially in those focused on developing countries, but more datasets are likely to become available over time as awareness on the issue is increased."
      ]
    },
    {
      "cell_type": "markdown",
      "metadata": {
        "id": "700G1OZSkHT-",
        "colab_type": "text"
      },
      "source": [
        "<a id=\"5\"></a>\n",
        "<hr style=\"height:2px; border:none; color:black; background-color:black;\">"
      ]
    },
    {
      "cell_type": "markdown",
      "metadata": {
        "id": "sT0NM9zAkHT_",
        "colab_type": "text"
      },
      "source": [
        "### CONTRIBUTIONS\n",
        "We have divided the tasks in the group. All of us did some reaserch and trials with different datasets, after we discussed what we have and came to one decision. Samantha did the coding part of analysis, Maris also did some part of coding and also made the visualizations. Togzhan did the hypothesis test and introduction part of report."
      ]
    },
    {
      "cell_type": "markdown",
      "metadata": {
        "id": "aIAq8hLSkHUA",
        "colab_type": "text"
      },
      "source": [
        "Resources\n",
        "    Borda, C. (2013). Bolivia’s Nutritional Status . Bolivia’s Nutritional Status . Retrieved from https://oxfamibis.dk/sites/default/files/PDF/global/Bolivia pdf files/ibis_report_bolivias_nutritional_status_2013.pdf\n",
        "    Khatri, M. (2019, October 12). Anemia: Causes, Symptoms, Diagnosis, Treatments. Retrieved December 8, 2019, from https://www.webmd.com/a-to-z-guides/understanding-anemia-basics#1.\n",
        "    "
      ]
    }
  ]
}